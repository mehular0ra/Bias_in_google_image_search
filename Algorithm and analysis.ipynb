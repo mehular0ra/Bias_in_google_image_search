{
  "nbformat": 4,
  "nbformat_minor": 0,
  "metadata": {
    "colab": {
      "name": "Algorithm.ipynb",
      "provenance": [],
      "collapsed_sections": [],
      "include_colab_link": true
    },
    "kernelspec": {
      "name": "python3",
      "display_name": "Python 3"
    },
    "language_info": {
      "name": "python"
    }
  },
  "cells": [
    {
      "cell_type": "markdown",
      "metadata": {
        "id": "view-in-github",
        "colab_type": "text"
      },
      "source": [
        "<a href=\"https://colab.research.google.com/github/mehular0ra/Bias_in_google_image_search/blob/main/Algorithm%20and%20analysis.ipynb\" target=\"_parent\"><img src=\"https://colab.research.google.com/assets/colab-badge.svg\" alt=\"Open In Colab\"/></a>"
      ]
    },
    {
      "cell_type": "code",
      "execution_count": 1,
      "metadata": {
        "id": "t8CT7TMYaVPn"
      },
      "outputs": [],
      "source": [
        "import pandas as pd\n",
        "import matplotlib.pyplot as plt"
      ]
    },
    {
      "cell_type": "code",
      "source": [
        "sheet_id = \"1pIAWqylNQT0VIc0ItjWpSp0myuJ2CmlygC6GWSPm5KM\"\n",
        "sheet_name_1 = \"set-1\"\n",
        "sheet_name_2 = \"set-2\"\n",
        "sheet_name_3 = \"set-3\"\n",
        "\n",
        "sheet1 = f\"https://docs.google.com/spreadsheets/d/{sheet_id}/gviz/tq?tqx=out:csv&sheet={sheet_name_1}\"\n",
        "sheet2 = f\"https://docs.google.com/spreadsheets/d/{sheet_id}/gviz/tq?tqx=out:csv&sheet={sheet_name_2}\"\n",
        "sheet3 = f\"https://docs.google.com/spreadsheets/d/{sheet_id}/gviz/tq?tqx=out:csv&sheet={sheet_name_3}\""
      ],
      "metadata": {
        "id": "YeR0Smnrad5p"
      },
      "execution_count": 2,
      "outputs": []
    },
    {
      "cell_type": "code",
      "source": [
        "# covert to dataframes\n",
        "df1 = pd.read_csv(sheet1)\n",
        "df2 = pd.read_csv(sheet2)\n",
        "df3 = pd.read_csv(sheet3)"
      ],
      "metadata": {
        "id": "2qVZHdC3b19W"
      },
      "execution_count": 3,
      "outputs": []
    },
    {
      "cell_type": "code",
      "source": [
        "# covert data into dict format with each column as a list\n",
        "dict1 = df1.to_dict(orient='list')\n",
        "dict2 = df2.to_dict(orient='list')\n",
        "dict3 = df3.to_dict(orient='list')\n",
        "\n",
        "# print(dict1)"
      ],
      "metadata": {
        "id": "k__iXDP3cBpJ"
      },
      "execution_count": 4,
      "outputs": []
    },
    {
      "cell_type": "code",
      "source": [
        "print(dict2['software_developer'])"
      ],
      "metadata": {
        "id": "mM9icMZ6sqgZ",
        "colab": {
          "base_uri": "https://localhost:8080/"
        },
        "outputId": "2b4375b1-988a-4c2e-956b-a305cc6575d5"
      },
      "execution_count": 5,
      "outputs": [
        {
          "output_type": "stream",
          "name": "stdout",
          "text": [
            "[-1, 1, 0, -1, -1, 0, -1, 1, -1, -1, -1, -1, 0, -1, 1, -1, 1, -1, 0, 0, 0, -1, -1, 1, -1, 1, -1, -1, 1, -1]\n"
          ]
        }
      ]
    },
    {
      "cell_type": "code",
      "source": [
        "# combining the 3 dictionaries into 1 combine_dict\n",
        "combine_dict = {}\n",
        "for key in dict1:\n",
        "    combine_dict[key] = [(dict1[key][val] + dict2[key][val] + dict3[key][val])/3 for val in range(30)]\n",
        "\n",
        "print(combine_dict)"
      ],
      "metadata": {
        "id": "pdoOp-dMrVRU",
        "colab": {
          "base_uri": "https://localhost:8080/"
        },
        "outputId": "05d4fde5-b9b5-48cd-9bc7-de3900bcca1a"
      },
      "execution_count": 6,
      "outputs": [
        {
          "output_type": "stream",
          "name": "stdout",
          "text": [
            "{'data_scientist': [-0.6666666666666666, -0.6666666666666666, -0.6666666666666666, 0.0, 0.0, -0.6666666666666666, 0.3333333333333333, -0.3333333333333333, -1.0, -0.3333333333333333, -0.3333333333333333, 0.3333333333333333, 0.0, -0.6666666666666666, 0.0, 0.3333333333333333, -0.3333333333333333, -0.3333333333333333, -0.6666666666666666, 0.3333333333333333, -0.6666666666666666, -0.3333333333333333, -0.3333333333333333, -0.3333333333333333, 0.0, 0.0, 0.6666666666666666, 0.3333333333333333, 0.0, 0.6666666666666666], 'software_developer': [-0.3333333333333333, 0.3333333333333333, 0.0, -1.0, -0.6666666666666666, -0.6666666666666666, -0.6666666666666666, 0.3333333333333333, -0.6666666666666666, 0.0, -1.0, -1.0, 0.0, -0.3333333333333333, 0.6666666666666666, -0.3333333333333333, 0.3333333333333333, 0.3333333333333333, -0.6666666666666666, -0.6666666666666666, 0.3333333333333333, -0.3333333333333333, -0.3333333333333333, -0.3333333333333333, -0.6666666666666666, 0.3333333333333333, 0.0, 0.0, 0.0, -0.6666666666666666], 'information_security_analyst': [-1.0, -0.6666666666666666, -0.6666666666666666, -0.3333333333333333, 0.0, 0.0, -0.6666666666666666, 0.0, 0.3333333333333333, -1.0, -0.6666666666666666, 0.3333333333333333, 0.0, -0.3333333333333333, 0.3333333333333333, -1.0, -0.6666666666666666, -0.3333333333333333, -0.3333333333333333, 0.0, 0.3333333333333333, -0.6666666666666666, 0.3333333333333333, -0.6666666666666666, -1.0, -1.0, 0.3333333333333333, 0.0, 0.3333333333333333, 0.0], 'computer_systems_analyst': [0.0, -0.3333333333333333, -1.0, -0.3333333333333333, -0.3333333333333333, -0.3333333333333333, -0.3333333333333333, -1.0, -1.0, 0.3333333333333333, 1.0, 1.0, 1.0, -1.0, 0.3333333333333333, -1.0, -0.6666666666666666, 0.6666666666666666, 0.6666666666666666, 0.0, -0.6666666666666666, -0.3333333333333333, 0.0, 0.3333333333333333, 0.6666666666666666, -0.3333333333333333, -0.3333333333333333, -0.3333333333333333, -0.6666666666666666, 1.0], 'web_developer': [-0.6666666666666666, 0.0, -0.6666666666666666, 0.0, -0.6666666666666666, 0.6666666666666666, -1.0, -0.6666666666666666, 0.3333333333333333, -0.3333333333333333, 0.6666666666666666, -0.3333333333333333, -0.3333333333333333, 0.0, -0.3333333333333333, -0.6666666666666666, 0.6666666666666666, -0.6666666666666666, 0.3333333333333333, 0.3333333333333333, -0.6666666666666666, -0.3333333333333333, 0.0, 0.3333333333333333, -0.3333333333333333, -0.6666666666666666, 0.0, 0.3333333333333333, 0.6666666666666666, 0.3333333333333333], 'computer_research_scientist': [-0.6666666666666666, -0.3333333333333333, -0.3333333333333333, 0.6666666666666666, -1.0, -0.3333333333333333, 0.3333333333333333, 0.0, -0.6666666666666666, 0.3333333333333333, 0.0, -0.3333333333333333, 0.6666666666666666, -1.0, 0.3333333333333333, -1.0, -0.6666666666666666, 0.3333333333333333, -0.3333333333333333, -0.3333333333333333, 0.3333333333333333, 0.0, 0.0, 0.6666666666666666, -0.3333333333333333, -0.3333333333333333, 0.0, 0.0, 0.3333333333333333, 0.6666666666666666], 'network_and_systems_administrator': [-0.6666666666666666, -0.3333333333333333, -1.0, -0.6666666666666666, -0.6666666666666666, -0.3333333333333333, -0.6666666666666666, -0.6666666666666666, -0.6666666666666666, -1.0, -0.3333333333333333, 0.0, -0.6666666666666666, -0.3333333333333333, -0.6666666666666666, -1.0, -0.3333333333333333, -0.6666666666666666, -1.0, -0.3333333333333333, -0.3333333333333333, -0.6666666666666666, -0.3333333333333333, 0.0, 0.3333333333333333, 0.0, -0.6666666666666666, 0.3333333333333333, -0.3333333333333333, -0.6666666666666666], 'tech_entrepreneur': [-0.3333333333333333, -1.0, -0.6666666666666666, -0.3333333333333333, -0.3333333333333333, 0.0, -0.6666666666666666, -0.3333333333333333, -0.6666666666666666, -0.3333333333333333, -0.6666666666666666, 0.0, -0.3333333333333333, -0.3333333333333333, -0.3333333333333333, -1.0, 0.0, -0.3333333333333333, -1.0, -0.6666666666666666, -0.6666666666666666, 0.3333333333333333, 0.6666666666666666, 0.0, -1.0, -0.3333333333333333, -0.3333333333333333, -0.6666666666666666, 0.0, 0.0], 'sales_engineer': [-0.3333333333333333, -0.6666666666666666, -0.6666666666666666, -0.6666666666666666, -0.6666666666666666, -0.6666666666666666, -0.6666666666666666, -1.0, -0.3333333333333333, 0.3333333333333333, -0.6666666666666666, -0.3333333333333333, -0.3333333333333333, 0.3333333333333333, -0.3333333333333333, -0.3333333333333333, -0.6666666666666666, -0.6666666666666666, 0.3333333333333333, 0.3333333333333333, 0.0, -0.3333333333333333, -0.6666666666666666, -1.0, 0.0, 0.3333333333333333, 0.3333333333333333, -0.3333333333333333, 0.3333333333333333, -0.3333333333333333], 'information_technology_manager': [-0.3333333333333333, 0.0, -0.6666666666666666, -0.3333333333333333, 0.0, -0.6666666666666666, 0.0, -0.6666666666666666, -0.3333333333333333, -0.3333333333333333, 0.6666666666666666, -0.6666666666666666, 0.3333333333333333, 0.0, -0.3333333333333333, 0.0, 0.3333333333333333, 0.0, 0.3333333333333333, -0.6666666666666666, 0.6666666666666666, -0.6666666666666666, 0.3333333333333333, -0.3333333333333333, -0.3333333333333333, 0.3333333333333333, -0.3333333333333333, 0.3333333333333333, 0.6666666666666666, 0.6666666666666666], 'pharmacist': [0.0, 0.3333333333333333, 0.3333333333333333, 0.6666666666666666, -0.6666666666666666, -0.6666666666666666, 0.0, 0.3333333333333333, 0.3333333333333333, 0.3333333333333333, 1.0, 0.6666666666666666, 0.0, 0.3333333333333333, 0.0, 0.6666666666666666, 0.0, 0.3333333333333333, -0.3333333333333333, -0.3333333333333333, 0.3333333333333333, 0.3333333333333333, 0.3333333333333333, 0.6666666666666666, -0.3333333333333333, 0.3333333333333333, -0.3333333333333333, 0.3333333333333333, 0.3333333333333333, 0.6666666666666666], 'nurse_practitioner': [1.0, 1.0, 1.0, 0.3333333333333333, 1.0, 0.3333333333333333, -0.3333333333333333, 1.0, 0.6666666666666666, 0.6666666666666666, 0.6666666666666666, 1.0, 0.6666666666666666, 1.0, 0.0, 1.0, 1.0, 1.0, 1.0, 0.3333333333333333, 1.0, 0.6666666666666666, 0.3333333333333333, 1.0, 0.3333333333333333, 1.0, 0.6666666666666666, 0.6666666666666666, 1.0, 1.0], 'veterinarian': [0.6666666666666666, 0.6666666666666666, 0.6666666666666666, 0.6666666666666666, 0.3333333333333333, 0.3333333333333333, 0.6666666666666666, 0.6666666666666666, 0.6666666666666666, -0.3333333333333333, 1.0, 0.3333333333333333, 0.3333333333333333, 0.3333333333333333, 1.0, -0.3333333333333333, -0.3333333333333333, -0.3333333333333333, 0.6666666666666666, 0.0, 0.3333333333333333, 0.3333333333333333, 0.6666666666666666, 1.0, 0.0, 0.3333333333333333, -0.3333333333333333, 0.3333333333333333, 0.0, 1.0], 'physician_assistant': [-0.3333333333333333, 1.0, 0.0, 0.0, 1.0, 0.0, 0.3333333333333333, 0.0, 0.0, 0.3333333333333333, 0.6666666666666666, 0.0, 0.3333333333333333, 0.3333333333333333, 0.3333333333333333, 0.3333333333333333, 0.0, 0.0, 0.3333333333333333, 0.6666666666666666, -0.3333333333333333, 0.0, 0.6666666666666666, 0.3333333333333333, 0.3333333333333333, 0.6666666666666666, 0.3333333333333333, 1.0, 0.0, 0.6666666666666666], 'occupational_therapist': [0.3333333333333333, -0.3333333333333333, -0.6666666666666666, 1.0, 0.6666666666666666, 0.6666666666666666, -0.3333333333333333, 1.0, 1.0, 0.0, 0.3333333333333333, 0.6666666666666666, -0.3333333333333333, -0.6666666666666666, 0.3333333333333333, 0.6666666666666666, 1.0, 0.6666666666666666, 0.3333333333333333, 0.6666666666666666, 0.3333333333333333, 0.0, 0.6666666666666666, 0.0, 0.0, 0.3333333333333333, 0.3333333333333333, 0.0, 1.0, 0.3333333333333333], 'dental_hygienist': [0.0, 0.3333333333333333, 0.6666666666666666, -0.6666666666666666, 0.6666666666666666, -0.3333333333333333, 1.0, 0.0, 0.3333333333333333, 0.6666666666666666, 1.0, 0.6666666666666666, 1.0, 0.3333333333333333, 1.0, 1.0, 0.6666666666666666, 0.3333333333333333, 1.0, 0.6666666666666666, 0.3333333333333333, 0.6666666666666666, 0.6666666666666666, 0.3333333333333333, 1.0, 0.6666666666666666, 0.6666666666666666, 0.6666666666666666, -0.3333333333333333, 0.6666666666666666], 'dietitian_and_nutritionist': [0.0, 0.6666666666666666, 0.3333333333333333, 0.3333333333333333, 0.0, 0.0, 0.0, 1.0, 0.0, 0.6666666666666666, -0.3333333333333333, -0.3333333333333333, 0.6666666666666666, 1.0, 0.3333333333333333, 0.6666666666666666, 0.0, 0.6666666666666666, -0.3333333333333333, 0.3333333333333333, 1.0, 1.0, 0.6666666666666666, 0.0, 0.3333333333333333, 0.6666666666666666, 0.6666666666666666, -0.6666666666666666, -0.3333333333333333, 1.0], 'administrative_assistant': [0.6666666666666666, -0.6666666666666666, -0.6666666666666666, 0.0, 0.3333333333333333, 0.6666666666666666, 0.3333333333333333, 0.3333333333333333, -0.3333333333333333, 0.6666666666666666, 0.0, 0.0, 0.0, 0.0, 0.3333333333333333, 1.0, -0.6666666666666666, 0.6666666666666666, 0.3333333333333333, 0.3333333333333333, 0.3333333333333333, 0.6666666666666666, 0.0, 0.0, 0.3333333333333333, 0.0, 0.0, 0.6666666666666666, 0.0, 1.0], 'hairdresser_hair_stylist': [0.6666666666666666, -1.0, 1.0, -0.3333333333333333, -0.3333333333333333, 0.3333333333333333, -0.6666666666666666, 1.0, 1.0, 0.6666666666666666, 0.3333333333333333, 0.3333333333333333, 0.0, 0.6666666666666666, 0.0, 0.6666666666666666, 0.6666666666666666, 0.0, 1.0, 0.6666666666666666, 0.3333333333333333, 1.0, 0.0, -0.3333333333333333, 0.3333333333333333, 0.3333333333333333, 0.0, 0.3333333333333333, 0.6666666666666666, 0.3333333333333333], 'speech_language_pathologist': [0.3333333333333333, 0.3333333333333333, -0.3333333333333333, -0.3333333333333333, 1.0, 0.0, 1.0, 0.6666666666666666, 0.6666666666666666, 0.3333333333333333, 0.0, 0.6666666666666666, 1.0, 1.0, 0.3333333333333333, 0.3333333333333333, 0.3333333333333333, 0.3333333333333333, -0.3333333333333333, 0.6666666666666666, 1.0, 0.3333333333333333, 1.0, 0.3333333333333333, 1.0, 0.6666666666666666, 0.6666666666666666, 0.6666666666666666, 0.0, 0.6666666666666666]}\n"
          ]
        }
      ]
    },
    {
      "cell_type": "code",
      "source": [
        "# calculate input bias for every term, and save them to dictionary 'ib'\n",
        "ib = {}\n",
        "for key, value in combine_dict.items():\n",
        "    ib[key] = sum(value)/30\n",
        "\n",
        "# output bias\n",
        "ob = {}\n",
        "for key, value in combine_dict.items():\n",
        "    keyword_lst = combine_dict[key]\n",
        "    tsum = 0\n",
        "    b = 0\n",
        "    for i in range(30):\n",
        "        tsum += keyword_lst[i]\n",
        "        b += tsum / (i+1)\n",
        "    ob[key] = b / 30\n",
        "\n",
        "# ranking bias\n",
        "rb = {}\n",
        "for key, value in ob.items():\n",
        "    rb[key] = ob[key] - ib[key]"
      ],
      "metadata": {
        "id": "qeHRPSNfu8wH"
      },
      "execution_count": 7,
      "outputs": []
    },
    {
      "cell_type": "code",
      "source": [
        "for key, val in rb.items():\n",
        "    print(f'{key}')"
      ],
      "metadata": {
        "colab": {
          "base_uri": "https://localhost:8080/"
        },
        "id": "1LNSLXPgXi8-",
        "outputId": "ad5591bc-0dd0-4e26-d0b8-5fdd2ba88e1c"
      },
      "execution_count": 50,
      "outputs": [
        {
          "output_type": "stream",
          "name": "stdout",
          "text": [
            "data_scientist\n",
            "software_developer\n",
            "information_security_analyst\n",
            "computer_systems_analyst\n",
            "web_developer\n",
            "computer_research_scientist\n",
            "network_and_systems_administrator\n",
            "tech_entrepreneur\n",
            "sales_engineer\n",
            "information_technology_manager\n",
            "pharmacist\n",
            "nurse_practitioner\n",
            "veterinarian\n",
            "physician_assistant\n",
            "occupational_therapist\n",
            "dental_hygienist\n",
            "dietitian_and_nutritionist\n",
            "administrative_assistant\n",
            "hairdresser_hair_stylist\n",
            "speech_language_pathologist\n"
          ]
        }
      ]
    },
    {
      "cell_type": "code",
      "source": [
        "# google ranking algorithm bias (internal)\n",
        "for key, val in rb.items():\n",
        "    print(f'{key}:                     {val:.4f}')"
      ],
      "metadata": {
        "id": "OFUpCyY312Cm",
        "colab": {
          "base_uri": "https://localhost:8080/"
        },
        "outputId": "6294a2df-1bc2-42ef-8eae-db2b291813d0"
      },
      "execution_count": 8,
      "outputs": [
        {
          "output_type": "stream",
          "name": "stdout",
          "text": [
            "data_scientist:                     -0.1697\n",
            "software_developer:                     -0.0408\n",
            "information_security_analyst:                     -0.1276\n",
            "computer_systems_analyst:                     -0.1182\n",
            "web_developer:                     -0.1296\n",
            "computer_research_scientist:                     -0.1259\n",
            "network_and_systems_administrator:                     -0.1069\n",
            "tech_entrepreneur:                     -0.0760\n",
            "sales_engineer:                     -0.1493\n",
            "information_technology_manager:                     -0.1445\n",
            "pharmacist:                     -0.0337\n",
            "nurse_practitioner:                     0.0101\n",
            "veterinarian:                     0.1094\n",
            "physician_assistant:                     -0.0594\n",
            "occupational_therapist:                     -0.0585\n",
            "dental_hygienist:                     -0.1382\n",
            "dietitian_and_nutritionist:                     -0.0438\n",
            "administrative_assistant:                     -0.0825\n",
            "hairdresser_hair_stylist:                     -0.0788\n",
            "speech_language_pathologist:                     -0.1048\n"
          ]
        }
      ]
    },
    {
      "cell_type": "code",
      "source": [
        "# input bias (total number of bias: either male or female overall)\n",
        "for key, val in ib.items():\n",
        "    print(f'{key}:                     {val:.4f}')"
      ],
      "metadata": {
        "id": "IyIWOK7v5QCM",
        "outputId": "77dd2ed0-016c-4c20-e6b5-85fd9e36d34f",
        "colab": {
          "base_uri": "https://localhost:8080/"
        }
      },
      "execution_count": 9,
      "outputs": [
        {
          "output_type": "stream",
          "name": "stdout",
          "text": [
            "data_scientist:                     -0.1778\n",
            "software_developer:                     -0.2556\n",
            "information_security_analyst:                     -0.2889\n",
            "computer_systems_analyst:                     -0.1000\n",
            "web_developer:                     -0.1222\n",
            "computer_research_scientist:                     -0.1000\n",
            "network_and_systems_administrator:                     -0.4778\n",
            "tech_entrepreneur:                     -0.3778\n",
            "sales_engineer:                     -0.3111\n",
            "information_technology_manager:                     -0.0667\n",
            "pharmacist:                     0.2000\n",
            "nurse_practitioner:                     0.7333\n",
            "veterinarian:                     0.3778\n",
            "physician_assistant:                     0.3000\n",
            "occupational_therapist:                     0.3333\n",
            "dental_hygienist:                     0.5222\n",
            "dietitian_and_nutritionist:                     0.3333\n",
            "administrative_assistant:                     0.2111\n",
            "hairdresser_hair_stylist:                     0.3222\n",
            "speech_language_pathologist:                     0.4778\n"
          ]
        }
      ]
    },
    {
      "cell_type": "code",
      "source": [
        "# output bias (the bias we see)\n",
        "for key, val in ob.items():\n",
        "    print(f'{key}:                     {val:.4f}')"
      ],
      "metadata": {
        "id": "0BNBI0KdDY9U",
        "colab": {
          "base_uri": "https://localhost:8080/"
        },
        "outputId": "d7c185f2-f6d6-4def-e5e2-bc69040d3675"
      },
      "execution_count": 10,
      "outputs": [
        {
          "output_type": "stream",
          "name": "stdout",
          "text": [
            "data_scientist:                     -0.3475\n",
            "software_developer:                     -0.2963\n",
            "information_security_analyst:                     -0.4165\n",
            "computer_systems_analyst:                     -0.2182\n",
            "web_developer:                     -0.2518\n",
            "computer_research_scientist:                     -0.2259\n",
            "network_and_systems_administrator:                     -0.5847\n",
            "tech_entrepreneur:                     -0.4538\n",
            "sales_engineer:                     -0.4604\n",
            "information_technology_manager:                     -0.2112\n",
            "pharmacist:                     0.1663\n",
            "nurse_practitioner:                     0.7434\n",
            "veterinarian:                     0.4871\n",
            "physician_assistant:                     0.2406\n",
            "occupational_therapist:                     0.2748\n",
            "dental_hygienist:                     0.3840\n",
            "dietitian_and_nutritionist:                     0.2896\n",
            "administrative_assistant:                     0.1286\n",
            "hairdresser_hair_stylist:                     0.2435\n",
            "speech_language_pathologist:                     0.3730\n"
          ]
        }
      ]
    },
    {
      "cell_type": "markdown",
      "source": [
        "**Data Visualisation**"
      ],
      "metadata": {
        "id": "n2uEF3r9LYlU"
      }
    },
    {
      "cell_type": "code",
      "source": [
        "import numpy as np "
      ],
      "metadata": {
        "id": "4u3gU0rNDkz2"
      },
      "execution_count": 11,
      "outputs": []
    },
    {
      "cell_type": "code",
      "source": [
        "plt.style.use(\"seaborn\")"
      ],
      "metadata": {
        "id": "-bBhCQSuaZin"
      },
      "execution_count": 12,
      "outputs": []
    },
    {
      "cell_type": "markdown",
      "source": [
        "**Multiple Bar Graph**"
      ],
      "metadata": {
        "id": "M41R1IRkLrY3"
      }
    },
    {
      "cell_type": "code",
      "source": [
        "# Creating a multiple bar graph with job profiles on the x-axis and ib, ob and rb on the y axis\n",
        "\n",
        "x = np.arange(0,40,2)\n",
        "plt.figure(figsize = (15,8))\n",
        "plt.bar(x,list(ib.values()), width = 0.5, label = \"Input Bias\")\n",
        "plt.bar(x+0.5,list(ob.values()), width = 0.5, label = \"Output Bias\",tick_label = list(rb.keys()))\n",
        "plt.bar(x+1,list(rb.values()), width = 0.5, label = \"Ranking Bias\")\n",
        "plt.xticks(rotation = 90)\n",
        "plt.xlabel(\"Job Profiles\")\n",
        "plt.ylabel(\"Bias\")\n",
        "plt.legend()\n",
        "plt.show()"
      ],
      "metadata": {
        "id": "Sy70q5VNVCzD",
        "colab": {
          "base_uri": "https://localhost:8080/",
          "height": 650
        },
        "outputId": "ad39eb9e-7617-4d91-b97f-53659e7c3d43"
      },
      "execution_count": 13,
      "outputs": [
        {
          "output_type": "display_data",
          "data": {
            "text/plain": [
              "<Figure size 1080x576 with 1 Axes>"
            ],
            "image/png": "[encoded data removed]"
          },
          "metadata": {}
        }
      ]
    },
    {
      "cell_type": "markdown",
      "source": [
        "**Comparision of Ranking Bias in Male and Female Dominated jobs (Simple Bar Graph)**"
      ],
      "metadata": {
        "id": "bSeICPv8L4EA"
      }
    },
    {
      "cell_type": "code",
      "source": [
        "# Calculating the total Ranking bias in male dominated jobs (first 10) and female dominated jobs(last 10)\n",
        "\n",
        "rb_male_jobs = abs(sum(list(rb.values())[0:10]))\n",
        "rb_female_jobs = abs(sum(list(rb.values())[10:20]))\n",
        "\n",
        "print(rb_male_jobs, rb_female_jobs)"
      ],
      "metadata": {
        "id": "ecjzG2uSVV0p",
        "colab": {
          "base_uri": "https://localhost:8080/"
        },
        "outputId": "dce28c87-7107-4857-afa4-4164a88a8098"
      },
      "execution_count": 14,
      "outputs": [
        {
          "output_type": "stream",
          "name": "stdout",
          "text": [
            "1.1884624303036606 0.4802138902283399\n"
          ]
        }
      ]
    },
    {
      "cell_type": "code",
      "source": [
        "# Creating a bar chart for comparing the avg ranking bias in male dominated jobs and female dominated jobs\n",
        "\n",
        "plt.figure(figsize = (7,7))\n",
        "plt.bar([1,2],[rb_male_jobs/10, rb_female_jobs/10], tick_label = [\"Technology Jobs\",\"Female Dominated Jobs\"])\n",
        "plt.xlabel(\"Type of Jobs\")\n",
        "plt.ylabel(\"Avg Ranking Bias\")\n",
        "plt.title(\"Avg Ranking Bias in Technology Jobs vs Female Dominated Jobs\")\n",
        "plt.show()\n",
        "\n",
        "# Conclusion: Avg Ranking Bias in male dominated jobs is almost double the Avg Ranking Bias in femlae dominated jobs."
      ],
      "metadata": {
        "id": "t9VdjZAVhYaC",
        "outputId": "58510f04-555d-4283-dd56-08bd7e7fa80b",
        "colab": {
          "base_uri": "https://localhost:8080/",
          "height": 457
        }
      },
      "execution_count": 53,
      "outputs": [
        {
          "output_type": "display_data",
          "data": {
            "text/plain": [
              "<Figure size 504x504 with 1 Axes>"
            ],
            "image/png": "[encoded data removed]"
          },
          "metadata": {}
        }
      ]
    },
    {
      "cell_type": "markdown",
      "source": [
        "**Composition of Output Bias in male dominated jobs (Pie Chart)**"
      ],
      "metadata": {
        "id": "c1-NFa6bMGEO"
      }
    },
    {
      "cell_type": "code",
      "source": [
        "# Calculating the total Output and Input bias in male dominated jobs\n",
        "\n",
        "ob_male_jobs = abs(sum(list(ob.values())[0:10]))\n",
        "ib_male_jobs = abs(sum(list(ib.values())[0:10]))\n",
        "\n",
        "print(ob_male_jobs,ib_male_jobs,rb_male_jobs)"
      ],
      "metadata": {
        "id": "UMyKSn28iRms",
        "outputId": "acf712cc-79cc-4114-adae-0632e3f7b100",
        "colab": {
          "base_uri": "https://localhost:8080/"
        }
      },
      "execution_count": 16,
      "outputs": [
        {
          "output_type": "stream",
          "name": "stdout",
          "text": [
            "3.466240208081438 2.2777777777777777 1.1884624303036606\n"
          ]
        }
      ]
    },
    {
      "cell_type": "code",
      "source": [
        "# Creating a pie chart with the total as the Output bias in male dominated jobs to see what proportion of it is contributed by the input bias and how much\n",
        "# is contributed by the ranking bias\n",
        "\n",
        "plt.pie([ib_male_jobs, rb_male_jobs],explode=[0,0.05],labels = [\"Input Bias\", \"Ranking Bias\"], autopct = \"%0.0f\", shadow = True)\n",
        "plt.title(\"Composition of Output Bias in Technology Jobs\")\n",
        "plt.show()\n",
        "\n",
        "# Conclusion: Out of the total output bias against women in male dominated jobs, 34% is contributed by the ranking bias."
      ],
      "metadata": {
        "id": "rKewQD3vlPoj",
        "colab": {
          "base_uri": "https://localhost:8080/",
          "height": 345
        },
        "outputId": "29993ece-3d0e-4edd-8981-a249c2bb2c43"
      },
      "execution_count": 52,
      "outputs": [
        {
          "output_type": "display_data",
          "data": {
            "text/plain": [
              "<Figure size 576x396 with 1 Axes>"
            ],
            "image/png": "[encoded data removed]"
          },
          "metadata": {}
        }
      ]
    },
    {
      "cell_type": "markdown",
      "source": [
        "**Percentage effect of Ranking Bias on Input Bias in Female Dominated jobs(Pie Chart)**"
      ],
      "metadata": {
        "id": "ZZ-QD874MXL7"
      }
    },
    {
      "cell_type": "code",
      "source": [
        "# Calculating the total output and input bias in female dominated jobs\n",
        "\n",
        "ob_female_jobs = abs(sum(list(ob.values())[10:20]))\n",
        "ib_female_jobs = abs(sum(list(ib.values())[10:20]))\n",
        "print(ob_female_jobs,ib_female_jobs,rb_female_jobs)"
      ],
      "metadata": {
        "id": "hwL542l4lswl",
        "outputId": "41518bce-9f8e-4d1e-f389-9f98bebbfbf3",
        "colab": {
          "base_uri": "https://localhost:8080/"
        }
      },
      "execution_count": 18,
      "outputs": [
        {
          "output_type": "stream",
          "name": "stdout",
          "text": [
            "3.330897220882771 3.8111111111111113 0.4802138902283399\n"
          ]
        }
      ]
    },
    {
      "cell_type": "code",
      "source": [
        "# Creating a pie chart to see what percentage of the initial input bias in the favour of women is reduced by the ranking bias\n",
        "\n",
        "plt.pie([ob_female_jobs, rb_female_jobs],explode=[0,0.1],labels = [\"Output Bias\", \"Ranking Bias\"], autopct = \"%0.0f\", shadow = True)\n",
        "plt.title(\"Percentage of Input Bias Reduced by Ranking Bias in Female Dominated Jobs\")\n",
        "plt.show()\n",
        "\n",
        "# Conclusion: The input bias in favour of women in female dominated jobs is reduced by 13% by the ranking bias."
      ],
      "metadata": {
        "id": "KHaqmodCoQUs",
        "colab": {
          "base_uri": "https://localhost:8080/",
          "height": 345
        },
        "outputId": "7731f582-ecc4-4c6e-eb1c-6e00556bb2d1"
      },
      "execution_count": 19,
      "outputs": [
        {
          "output_type": "display_data",
          "data": {
            "text/plain": [
              "<Figure size 576x396 with 1 Axes>"
            ],
            "image/png": "[encoded data removed]"
          },
          "metadata": {}
        }
      ]
    },
    {
      "cell_type": "markdown",
      "source": [
        "**Comparision of Ranking Bias in High input bias and low input bias jobs (Bar Graph)**"
      ],
      "metadata": {
        "id": "DmYQZqZJM8JJ"
      }
    },
    {
      "cell_type": "code",
      "source": [
        "# Copying the input bias values into a numpy array, same for ranking bias\n",
        "ib_vals = np.fromiter(ib.values(),dtype = float)\n",
        "rb_vals = np.fromiter(rb.values(),dtype = float)\n",
        "print(ib_vals, rb_vals)"
      ],
      "metadata": {
        "id": "1GpICC_Equ1i",
        "outputId": "f1cb37ca-9937-4c5d-a4b2-e5f6fb03d7be",
        "colab": {
          "base_uri": "https://localhost:8080/"
        }
      },
      "execution_count": 20,
      "outputs": [
        {
          "output_type": "stream",
          "name": "stdout",
          "text": [
            "[-0.17777778 -0.25555556 -0.28888889 -0.1        -0.12222222 -0.1\n",
            " -0.47777778 -0.37777778 -0.31111111 -0.06666667  0.2         0.73333333\n",
            "  0.37777778  0.3         0.33333333  0.52222222  0.33333333  0.21111111\n",
            "  0.32222222  0.47777778] [-0.16968338 -0.04077039 -0.12761047 -0.11818189 -0.12958993 -0.12594024\n",
            " -0.10691156 -0.07597566 -0.14931512 -0.14448379 -0.03370238  0.01008434\n",
            "  0.10935215 -0.05937918 -0.05848797 -0.13819704 -0.04378304 -0.08252461\n",
            " -0.07876495 -0.10481121]\n"
          ]
        }
      ]
    },
    {
      "cell_type": "code",
      "source": [
        "# Finidng out the indices at which the input bias is higher than and lesser that 0.3(abs val)\n",
        "\n",
        "high_ib_idx = np.where(abs(ib_vals) >= 0.3)\n",
        "low_ib_idx = np.where(abs(ib_vals) < 0.3)\n",
        "print(high_ib_idx, low_ib_idx)"
      ],
      "metadata": {
        "id": "NhqBlZQJ6oxG",
        "outputId": "8d7e0ef1-a2f5-48be-9eca-1f4a36a20a04",
        "colab": {
          "base_uri": "https://localhost:8080/"
        }
      },
      "execution_count": 21,
      "outputs": [
        {
          "output_type": "stream",
          "name": "stdout",
          "text": [
            "(array([ 6,  7,  8, 11, 12, 14, 15, 16, 18, 19]),) (array([ 0,  1,  2,  3,  4,  5,  9, 10, 13, 17]),)\n"
          ]
        }
      ]
    },
    {
      "cell_type": "code",
      "source": [
        "# First Calculating total ranking bias for those indices(ie job profiles) where input bias(abs val) is more than 0.3 and then calculating the total ranking\n",
        "# bias for those indices(ie job profiles) where the input bias(abs val) is less than 0.3 to see if there is a relation between input bias and ranking bias\n",
        "\n",
        "high_ib_rb = 0\n",
        "for index in high_ib_idx:\n",
        "  high_ib_rb += rb_vals[index]\n",
        "high_ib_rb = sum(abs(high_ib_rb))/10\n",
        "print(high_ib_rb)\n",
        "\n",
        "low_ib_rb = 0\n",
        "for index in low_ib_idx:\n",
        "  low_ib_rb += rb_vals[index]\n",
        "low_ib_rb = sum(abs(low_ib_rb))/10\n",
        "print(low_ib_rb)"
      ],
      "metadata": {
        "id": "1ivcQjpH661X",
        "outputId": "23934f51-d629-4dff-b67c-02388284a70b",
        "colab": {
          "base_uri": "https://localhost:8080/"
        }
      },
      "execution_count": 22,
      "outputs": [
        {
          "output_type": "stream",
          "name": "stdout",
          "text": [
            "0.08756830528884944\n",
            "0.1031866255968685\n"
          ]
        }
      ]
    },
    {
      "cell_type": "code",
      "source": [
        "plt.figure(figsize = (7,7))\n",
        "plt.bar([1,2],[high_ib_rb, low_ib_rb], tick_label = [\"High Input Bias Jobs\",\"Low Input Bias Jobs\"])\n",
        "plt.xlabel(\"Type of Jobs\")\n",
        "plt.ylabel(\"Avg Ranking Bias\")\n",
        "plt.title(\"Relation between Input Bias and Ranking Bias/ Comparision of Ranking Bias in High Input Bias and Low Input Bias Jobs\")\n",
        "plt.show()\n",
        "\n",
        "# Conclusion: On an average, jobs with high input bias have a low ranking bias and vice-versa. So, there is low degree of inverse relation between input\n",
        "# bias and ranking bias"
      ],
      "metadata": {
        "id": "JRMNZwqj69MO",
        "colab": {
          "base_uri": "https://localhost:8080/",
          "height": 457
        },
        "outputId": "7a3b3415-e93d-454d-90e3-fbfac915c42a"
      },
      "execution_count": 23,
      "outputs": [
        {
          "output_type": "display_data",
          "data": {
            "text/plain": [
              "<Figure size 504x504 with 1 Axes>"
            ],
            "image/png": "[encoded data removed]"
          },
          "metadata": {}
        }
      ]
    },
    {
      "cell_type": "code",
      "source": [
        ""
      ],
      "metadata": {
        "id": "iFtxVgdWBNzD"
      },
      "execution_count": 23,
      "outputs": []
    },
    {
      "cell_type": "code",
      "source": [
        "ib_vals_m = ib_vals[0:10]\n",
        "rb_vals_m = rb_vals[0:10]\n",
        "print(ib_vals_m, rb_vals_m)"
      ],
      "metadata": {
        "id": "_iP9HurWDPpV",
        "outputId": "540cace8-4699-4fea-b506-756bb7978a6f",
        "colab": {
          "base_uri": "https://localhost:8080/"
        }
      },
      "execution_count": 24,
      "outputs": [
        {
          "output_type": "stream",
          "name": "stdout",
          "text": [
            "[-0.17777778 -0.25555556 -0.28888889 -0.1        -0.12222222 -0.1\n",
            " -0.47777778 -0.37777778 -0.31111111 -0.06666667] [-0.16968338 -0.04077039 -0.12761047 -0.11818189 -0.12958993 -0.12594024\n",
            " -0.10691156 -0.07597566 -0.14931512 -0.14448379]\n"
          ]
        }
      ]
    },
    {
      "cell_type": "code",
      "source": [
        "high_ib_idx_m = np.where(abs(ib_vals_m) >= 0.3)\n",
        "low_ib_idx_m = np.where(abs(ib_vals_m) < 0.3)\n",
        "print(high_ib_idx_m, low_ib_idx_m)"
      ],
      "metadata": {
        "id": "xmWzNoCkElBW",
        "outputId": "8761dc36-29af-4ed9-b6c0-a16ee93161e7",
        "colab": {
          "base_uri": "https://localhost:8080/"
        }
      },
      "execution_count": 25,
      "outputs": [
        {
          "output_type": "stream",
          "name": "stdout",
          "text": [
            "(array([6, 7, 8]),) (array([0, 1, 2, 3, 4, 5, 9]),)\n"
          ]
        }
      ]
    },
    {
      "cell_type": "code",
      "source": [
        "high_ib_rb_m = 0\n",
        "for index in high_ib_idx_m:\n",
        "  high_ib_rb_m += rb_vals_m[index]\n",
        "high_ib_rb_m = sum(abs(high_ib_rb_m))/3\n",
        "print(high_ib_rb_m)\n",
        "\n",
        "low_ib_rb_m = 0\n",
        "for index in low_ib_idx_m:\n",
        "  low_ib_rb_m += rb_vals_m[index]\n",
        "low_ib_rb_m = sum(abs(low_ib_rb_m))/7\n",
        "print(low_ib_rb_m)"
      ],
      "metadata": {
        "id": "pKglOx_GEvaM",
        "outputId": "a8c2e7d9-f009-4c3d-cb5a-bfa30abe97a1",
        "colab": {
          "base_uri": "https://localhost:8080/"
        }
      },
      "execution_count": 26,
      "outputs": [
        {
          "output_type": "stream",
          "name": "stdout",
          "text": [
            "0.11073411329122453\n",
            "0.1223228700614267\n"
          ]
        }
      ]
    },
    {
      "cell_type": "code",
      "source": [
        ""
      ],
      "metadata": {
        "id": "ZqRQslCrFJqz"
      },
      "execution_count": 26,
      "outputs": []
    },
    {
      "cell_type": "code",
      "source": [
        "ib_vals_f = ib_vals[10:20]\n",
        "rb_vals_f = rb_vals[10:20]\n",
        "print(ib_vals_f, rb_vals_f)"
      ],
      "metadata": {
        "id": "Y42YbXxlFftx",
        "colab": {
          "base_uri": "https://localhost:8080/"
        },
        "outputId": "b24a9fd3-05c3-42f1-ff53-690c18de4cbc"
      },
      "execution_count": 27,
      "outputs": [
        {
          "output_type": "stream",
          "name": "stdout",
          "text": [
            "[0.2        0.73333333 0.37777778 0.3        0.33333333 0.52222222\n",
            " 0.33333333 0.21111111 0.32222222 0.47777778] [-0.03370238  0.01008434  0.10935215 -0.05937918 -0.05848797 -0.13819704\n",
            " -0.04378304 -0.08252461 -0.07876495 -0.10481121]\n"
          ]
        }
      ]
    },
    {
      "cell_type": "code",
      "source": [
        "high_ib_idx_f = np.where(abs(ib_vals_f) >= 0.3)\n",
        "low_ib_idx_f = np.where(abs(ib_vals_f) < 0.3)\n",
        "print(high_ib_idx_f, low_ib_idx_f)"
      ],
      "metadata": {
        "id": "4r_nhXiaFkW-",
        "outputId": "ee9727e1-071a-4162-e4de-1887d4200655",
        "colab": {
          "base_uri": "https://localhost:8080/"
        }
      },
      "execution_count": 28,
      "outputs": [
        {
          "output_type": "stream",
          "name": "stdout",
          "text": [
            "(array([1, 2, 4, 5, 6, 8, 9]),) (array([0, 3, 7]),)\n"
          ]
        }
      ]
    },
    {
      "cell_type": "code",
      "source": [
        "high_ib_rb_f = 0\n",
        "for index in high_ib_idx_f:\n",
        "  high_ib_rb_f += rb_vals_f[index]\n",
        "high_ib_rb_f = sum(abs(high_ib_rb_f))/7\n",
        "print(high_ib_rb_f)\n",
        "\n",
        "low_ib_rb_f = 0\n",
        "for index in low_ib_idx_f:\n",
        "  low_ib_rb_f += rb_vals_f[index]\n",
        "low_ib_rb_f = sum(abs(low_ib_rb_f))/3\n",
        "print(low_ib_rb_f)"
      ],
      "metadata": {
        "id": "HxKHD3TeFp5X",
        "colab": {
          "base_uri": "https://localhost:8080/"
        },
        "outputId": "62e72443-8ed2-4d38-f7d4-325f4cf4b974"
      },
      "execution_count": 29,
      "outputs": [
        {
          "output_type": "stream",
          "name": "stdout",
          "text": [
            "0.07764010185926014\n",
            "0.05853538851289939\n"
          ]
        }
      ]
    },
    {
      "cell_type": "code",
      "source": [
        "ib_vals_abs = np.abs(ib_vals)\n",
        "ib_vals_sorted = np.sort(ib_vals_abs)\n",
        "print(ib_vals,ib_vals_abs,ib_vals_sorted)"
      ],
      "metadata": {
        "id": "3ixmoVxyGLKN",
        "colab": {
          "base_uri": "https://localhost:8080/"
        },
        "outputId": "27e35cb9-8ce7-4829-b00c-93c936240de2"
      },
      "execution_count": 30,
      "outputs": [
        {
          "output_type": "stream",
          "name": "stdout",
          "text": [
            "[-0.17777778 -0.25555556 -0.28888889 -0.1        -0.12222222 -0.1\n",
            " -0.47777778 -0.37777778 -0.31111111 -0.06666667  0.2         0.73333333\n",
            "  0.37777778  0.3         0.33333333  0.52222222  0.33333333  0.21111111\n",
            "  0.32222222  0.47777778] [0.17777778 0.25555556 0.28888889 0.1        0.12222222 0.1\n",
            " 0.47777778 0.37777778 0.31111111 0.06666667 0.2        0.73333333\n",
            " 0.37777778 0.3        0.33333333 0.52222222 0.33333333 0.21111111\n",
            " 0.32222222 0.47777778] [0.06666667 0.1        0.1        0.12222222 0.17777778 0.2\n",
            " 0.21111111 0.25555556 0.28888889 0.3        0.31111111 0.32222222\n",
            " 0.33333333 0.33333333 0.37777778 0.37777778 0.47777778 0.47777778\n",
            " 0.52222222 0.73333333]\n"
          ]
        }
      ]
    },
    {
      "cell_type": "code",
      "source": [
        "p_20 = ib_vals_sorted[int(len(ib_vals_sorted)/5)-1]\n",
        "p_80 = ib_vals_sorted[int(4*len(ib_vals_sorted)/5)]\n",
        "\n",
        "print(p_20, p_80)"
      ],
      "metadata": {
        "colab": {
          "base_uri": "https://localhost:8080/"
        },
        "id": "uVscfdLVHTeT",
        "outputId": "f56405dc-7401-4ab0-d048-f71a0b093601"
      },
      "execution_count": 31,
      "outputs": [
        {
          "output_type": "stream",
          "name": "stdout",
          "text": [
            "0.12222222222222225 0.47777777777777775\n"
          ]
        }
      ]
    },
    {
      "cell_type": "code",
      "source": [
        "high_ib_indx = np.where(abs(ib_vals) >= p_80)\n",
        "low_ib_indx = np.where(abs(ib_vals) <= p_20)\n",
        "\n",
        "print(high_ib_indx, low_ib_indx)"
      ],
      "metadata": {
        "colab": {
          "base_uri": "https://localhost:8080/"
        },
        "id": "FfOisQPCOAY0",
        "outputId": "6d6901dc-00f1-41c7-ebc6-e3b8376a50ec"
      },
      "execution_count": 32,
      "outputs": [
        {
          "output_type": "stream",
          "name": "stdout",
          "text": [
            "(array([ 6, 11, 15, 19]),) (array([3, 4, 5, 9]),)\n"
          ]
        }
      ]
    },
    {
      "cell_type": "code",
      "source": [
        "high_ib_rb = 0\n",
        "for index in high_ib_indx:\n",
        "  high_ib_rb += rb_vals[index]\n",
        "high_ib_rb = sum(abs(high_ib_rb))/4\n",
        "print(high_ib_rb)\n",
        "\n",
        "low_ib_rb = 0\n",
        "for index in low_ib_indx:\n",
        "  low_ib_rb += rb_vals[index]\n",
        "low_ib_rb = sum(abs(low_ib_rb))/4\n",
        "print(low_ib_rb)"
      ],
      "metadata": {
        "colab": {
          "base_uri": "https://localhost:8080/"
        },
        "id": "FpJKmUxSRsmh",
        "outputId": "95bcc6a9-42f4-430e-aa0a-f979fff77618"
      },
      "execution_count": 33,
      "outputs": [
        {
          "output_type": "stream",
          "name": "stdout",
          "text": [
            "0.09000103961903519\n",
            "0.12954896225827978\n"
          ]
        }
      ]
    },
    {
      "cell_type": "code",
      "source": [
        "plt.figure(figsize = (7,7))\n",
        "plt.bar([1,2],[high_ib_rb, low_ib_rb], tick_label = [\"High Input Bias Jobs(Top 20%)\",\"Low Input Bias Jobs(Least 20%)\"])\n",
        "plt.xlabel(\"Type of Jobs\")\n",
        "plt.ylabel(\"Avg Ranking Bias\")\n",
        "plt.title(\"Relation between Input Bias and Ranking Bias/ Comparision of Ranking Bias in High Input Bias and Low Input Bias Jobs\")\n",
        "plt.show()\n"
      ],
      "metadata": {
        "colab": {
          "base_uri": "https://localhost:8080/",
          "height": 457
        },
        "id": "Y82nVkwHOfTt",
        "outputId": "3495f67f-fe9d-48b5-9b58-289faca3bd37"
      },
      "execution_count": 34,
      "outputs": [
        {
          "output_type": "display_data",
          "data": {
            "text/plain": [
              "<Figure size 504x504 with 1 Axes>"
            ],
            "image/png": "[encoded data removed]"
          },
          "metadata": {}
        }
      ]
    },
    {
      "cell_type": "code",
      "source": [
        "ib_df = pd.DataFrame.from_dict(ib.items())\n",
        "ib_df.columns = [\"Job Profile\", \"Input Bias\"]\n",
        "ib_df"
      ],
      "metadata": {
        "id": "P_S105ktO1lV",
        "colab": {
          "base_uri": "https://localhost:8080/",
          "height": 676
        },
        "outputId": "0904f513-6308-4d84-dc31-5f8f465a8e49"
      },
      "execution_count": 35,
      "outputs": [
        {
          "output_type": "execute_result",
          "data": {
            "text/plain": [
              "                          Job Profile  Input Bias\n",
              "0                      data_scientist   -0.177778\n",
              "1                  software_developer   -0.255556\n",
              "2        information_security_analyst   -0.288889\n",
              "3            computer_systems_analyst   -0.100000\n",
              "4                       web_developer   -0.122222\n",
              "5         computer_research_scientist   -0.100000\n",
              "6   network_and_systems_administrator   -0.477778\n",
              "7                   tech_entrepreneur   -0.377778\n",
              "8                      sales_engineer   -0.311111\n",
              "9      information_technology_manager   -0.066667\n",
              "10                         pharmacist    0.200000\n",
              "11                 nurse_practitioner    0.733333\n",
              "12                       veterinarian    0.377778\n",
              "13                physician_assistant    0.300000\n",
              "14             occupational_therapist    0.333333\n",
              "15                   dental_hygienist    0.522222\n",
              "16         dietitian_and_nutritionist    0.333333\n",
              "17           administrative_assistant    0.211111\n",
              "18           hairdresser_hair_stylist    0.322222\n",
              "19        speech_language_pathologist    0.477778"
            ],
            "text/html": [
              "\n",
              "  <div id=\"df-1e0d5d62-b775-4662-ae30-323ad0c8b4f4\">\n",
              "    <div class=\"colab-df-container\">\n",
              "      <div>\n",
              "<style scoped>\n",
              "    .dataframe tbody tr th:only-of-type {\n",
              "        vertical-align: middle;\n",
              "    }\n",
              "\n",
              "    .dataframe tbody tr th {\n",
              "        vertical-align: top;\n",
              "    }\n",
              "\n",
              "    .dataframe thead th {\n",
              "        text-align: right;\n",
              "    }\n",
              "</style>\n",
              "<table border=\"1\" class=\"dataframe\">\n",
              "  <thead>\n",
              "    <tr style=\"text-align: right;\">\n",
              "      <th></th>\n",
              "      <th>Job Profile</th>\n",
              "      <th>Input Bias</th>\n",
              "    </tr>\n",
              "  </thead>\n",
              "  <tbody>\n",
              "    <tr>\n",
              "      <th>0</th>\n",
              "      <td>data_scientist</td>\n",
              "      <td>-0.177778</td>\n",
              "    </tr>\n",
              "    <tr>\n",
              "      <th>1</th>\n",
              "      <td>software_developer</td>\n",
              "      <td>-0.255556</td>\n",
              "    </tr>\n",
              "    <tr>\n",
              "      <th>2</th>\n",
              "      <td>information_security_analyst</td>\n",
              "      <td>-0.288889</td>\n",
              "    </tr>\n",
              "    <tr>\n",
              "      <th>3</th>\n",
              "      <td>computer_systems_analyst</td>\n",
              "      <td>-0.100000</td>\n",
              "    </tr>\n",
              "    <tr>\n",
              "      <th>4</th>\n",
              "      <td>web_developer</td>\n",
              "      <td>-0.122222</td>\n",
              "    </tr>\n",
              "    <tr>\n",
              "      <th>5</th>\n",
              "      <td>computer_research_scientist</td>\n",
              "      <td>-0.100000</td>\n",
              "    </tr>\n",
              "    <tr>\n",
              "      <th>6</th>\n",
              "      <td>network_and_systems_administrator</td>\n",
              "      <td>-0.477778</td>\n",
              "    </tr>\n",
              "    <tr>\n",
              "      <th>7</th>\n",
              "      <td>tech_entrepreneur</td>\n",
              "      <td>-0.377778</td>\n",
              "    </tr>\n",
              "    <tr>\n",
              "      <th>8</th>\n",
              "      <td>sales_engineer</td>\n",
              "      <td>-0.311111</td>\n",
              "    </tr>\n",
              "    <tr>\n",
              "      <th>9</th>\n",
              "      <td>information_technology_manager</td>\n",
              "      <td>-0.066667</td>\n",
              "    </tr>\n",
              "    <tr>\n",
              "      <th>10</th>\n",
              "      <td>pharmacist</td>\n",
              "      <td>0.200000</td>\n",
              "    </tr>\n",
              "    <tr>\n",
              "      <th>11</th>\n",
              "      <td>nurse_practitioner</td>\n",
              "      <td>0.733333</td>\n",
              "    </tr>\n",
              "    <tr>\n",
              "      <th>12</th>\n",
              "      <td>veterinarian</td>\n",
              "      <td>0.377778</td>\n",
              "    </tr>\n",
              "    <tr>\n",
              "      <th>13</th>\n",
              "      <td>physician_assistant</td>\n",
              "      <td>0.300000</td>\n",
              "    </tr>\n",
              "    <tr>\n",
              "      <th>14</th>\n",
              "      <td>occupational_therapist</td>\n",
              "      <td>0.333333</td>\n",
              "    </tr>\n",
              "    <tr>\n",
              "      <th>15</th>\n",
              "      <td>dental_hygienist</td>\n",
              "      <td>0.522222</td>\n",
              "    </tr>\n",
              "    <tr>\n",
              "      <th>16</th>\n",
              "      <td>dietitian_and_nutritionist</td>\n",
              "      <td>0.333333</td>\n",
              "    </tr>\n",
              "    <tr>\n",
              "      <th>17</th>\n",
              "      <td>administrative_assistant</td>\n",
              "      <td>0.211111</td>\n",
              "    </tr>\n",
              "    <tr>\n",
              "      <th>18</th>\n",
              "      <td>hairdresser_hair_stylist</td>\n",
              "      <td>0.322222</td>\n",
              "    </tr>\n",
              "    <tr>\n",
              "      <th>19</th>\n",
              "      <td>speech_language_pathologist</td>\n",
              "      <td>0.477778</td>\n",
              "    </tr>\n",
              "  </tbody>\n",
              "</table>\n",
              "</div>\n",
              "      <button class=\"colab-df-convert\" onclick=\"convertToInteractive('df-1e0d5d62-b775-4662-ae30-323ad0c8b4f4')\"\n",
              "              title=\"Convert this dataframe to an interactive table.\"\n",
              "              style=\"display:none;\">\n",
              "        \n",
              "  <svg xmlns=\"http://www.w3.org/2000/svg\" height=\"24px\"viewBox=\"0 0 24 24\"\n",
              "       width=\"24px\">\n",
              "    <path d=\"M0 0h24v24H0V0z\" fill=\"none\"/>\n",
              "    <path d=\"M18.56 5.44l.94 2.06.94-2.06 2.06-.94-2.06-.94-.94-2.06-.94 2.06-2.06.94zm-11 1L8.5 8.5l.94-2.06 2.06-.94-2.06-.94L8.5 2.5l-.94 2.06-2.06.94zm10 10l.94 2.06.94-2.06 2.06-.94-2.06-.94-.94-2.06-.94 2.06-2.06.94z\"/><path d=\"M17.41 7.96l-1.37-1.37c-.4-.4-.92-.59-1.43-.59-.52 0-1.04.2-1.43.59L10.3 9.45l-7.72 7.72c-.78.78-.78 2.05 0 2.83L4 21.41c.39.39.9.59 1.41.59.51 0 1.02-.2 1.41-.59l7.78-7.78 2.81-2.81c.8-.78.8-2.07 0-2.86zM5.41 20L4 18.59l7.72-7.72 1.47 1.35L5.41 20z\"/>\n",
              "  </svg>\n",
              "      </button>\n",
              "      \n",
              "  <style>\n",
              "    .colab-df-container {\n",
              "      display:flex;\n",
              "      flex-wrap:wrap;\n",
              "      gap: 12px;\n",
              "    }\n",
              "\n",
              "    .colab-df-convert {\n",
              "      background-color: #E8F0FE;\n",
              "      border: none;\n",
              "      border-radius: 50%;\n",
              "      cursor: pointer;\n",
              "      display: none;\n",
              "      fill: #1967D2;\n",
              "      height: 32px;\n",
              "      padding: 0 0 0 0;\n",
              "      width: 32px;\n",
              "    }\n",
              "\n",
              "    .colab-df-convert:hover {\n",
              "      background-color: #E2EBFA;\n",
              "      box-shadow: 0px 1px 2px rgba(60, 64, 67, 0.3), 0px 1px 3px 1px rgba(60, 64, 67, 0.15);\n",
              "      fill: #174EA6;\n",
              "    }\n",
              "\n",
              "    [theme=dark] .colab-df-convert {\n",
              "      background-color: #3B4455;\n",
              "      fill: #D2E3FC;\n",
              "    }\n",
              "\n",
              "    [theme=dark] .colab-df-convert:hover {\n",
              "      background-color: #434B5C;\n",
              "      box-shadow: 0px 1px 3px 1px rgba(0, 0, 0, 0.15);\n",
              "      filter: drop-shadow(0px 1px 2px rgba(0, 0, 0, 0.3));\n",
              "      fill: #FFFFFF;\n",
              "    }\n",
              "  </style>\n",
              "\n",
              "      <script>\n",
              "        const buttonEl =\n",
              "          document.querySelector('#df-1e0d5d62-b775-4662-ae30-323ad0c8b4f4 button.colab-df-convert');\n",
              "        buttonEl.style.display =\n",
              "          google.colab.kernel.accessAllowed ? 'block' : 'none';\n",
              "\n",
              "        async function convertToInteractive(key) {\n",
              "          const element = document.querySelector('#df-1e0d5d62-b775-4662-ae30-323ad0c8b4f4');\n",
              "          const dataTable =\n",
              "            await google.colab.kernel.invokeFunction('convertToInteractive',\n",
              "                                                     [key], {});\n",
              "          if (!dataTable) return;\n",
              "\n",
              "          const docLinkHtml = 'Like what you see? Visit the ' +\n",
              "            '<a target=\"_blank\" href=https://colab.research.google.com/notebooks/data_table.ipynb>data table notebook</a>'\n",
              "            + ' to learn more about interactive tables.';\n",
              "          element.innerHTML = '';\n",
              "          dataTable['output_type'] = 'display_data';\n",
              "          await google.colab.output.renderOutput(dataTable, element);\n",
              "          const docLink = document.createElement('div');\n",
              "          docLink.innerHTML = docLinkHtml;\n",
              "          element.appendChild(docLink);\n",
              "        }\n",
              "      </script>\n",
              "    </div>\n",
              "  </div>\n",
              "  "
            ]
          },
          "metadata": {},
          "execution_count": 35
        }
      ]
    },
    {
      "cell_type": "code",
      "source": [
        "ob_df = pd.DataFrame.from_dict(ob.items())\n",
        "ob_df.columns = [\"Job Profile\", \"Output Bias\"]\n",
        "ob_df"
      ],
      "metadata": {
        "colab": {
          "base_uri": "https://localhost:8080/",
          "height": 676
        },
        "id": "Jk6PPpApDUq3",
        "outputId": "59b96e6d-43c4-4ccb-e7a1-11d81381eda8"
      },
      "execution_count": 36,
      "outputs": [
        {
          "output_type": "execute_result",
          "data": {
            "text/plain": [
              "                          Job Profile  Output Bias\n",
              "0                      data_scientist    -0.347461\n",
              "1                  software_developer    -0.296326\n",
              "2        information_security_analyst    -0.416499\n",
              "3            computer_systems_analyst    -0.218182\n",
              "4                       web_developer    -0.251812\n",
              "5         computer_research_scientist    -0.225940\n",
              "6   network_and_systems_administrator    -0.584689\n",
              "7                   tech_entrepreneur    -0.453753\n",
              "8                      sales_engineer    -0.460426\n",
              "9      information_technology_manager    -0.211150\n",
              "10                         pharmacist     0.166298\n",
              "11                 nurse_practitioner     0.743418\n",
              "12                       veterinarian     0.487130\n",
              "13                physician_assistant     0.240621\n",
              "14             occupational_therapist     0.274845\n",
              "15                   dental_hygienist     0.384025\n",
              "16         dietitian_and_nutritionist     0.289550\n",
              "17           administrative_assistant     0.128586\n",
              "18           hairdresser_hair_stylist     0.243457\n",
              "19        speech_language_pathologist     0.372967"
            ],
            "text/html": [
              "\n",
              "  <div id=\"df-fb0b1338-5c0b-4b88-8cf1-d922c7a1a01a\">\n",
              "    <div class=\"colab-df-container\">\n",
              "      <div>\n",
              "<style scoped>\n",
              "    .dataframe tbody tr th:only-of-type {\n",
              "        vertical-align: middle;\n",
              "    }\n",
              "\n",
              "    .dataframe tbody tr th {\n",
              "        vertical-align: top;\n",
              "    }\n",
              "\n",
              "    .dataframe thead th {\n",
              "        text-align: right;\n",
              "    }\n",
              "</style>\n",
              "<table border=\"1\" class=\"dataframe\">\n",
              "  <thead>\n",
              "    <tr style=\"text-align: right;\">\n",
              "      <th></th>\n",
              "      <th>Job Profile</th>\n",
              "      <th>Output Bias</th>\n",
              "    </tr>\n",
              "  </thead>\n",
              "  <tbody>\n",
              "    <tr>\n",
              "      <th>0</th>\n",
              "      <td>data_scientist</td>\n",
              "      <td>-0.347461</td>\n",
              "    </tr>\n",
              "    <tr>\n",
              "      <th>1</th>\n",
              "      <td>software_developer</td>\n",
              "      <td>-0.296326</td>\n",
              "    </tr>\n",
              "    <tr>\n",
              "      <th>2</th>\n",
              "      <td>information_security_analyst</td>\n",
              "      <td>-0.416499</td>\n",
              "    </tr>\n",
              "    <tr>\n",
              "      <th>3</th>\n",
              "      <td>computer_systems_analyst</td>\n",
              "      <td>-0.218182</td>\n",
              "    </tr>\n",
              "    <tr>\n",
              "      <th>4</th>\n",
              "      <td>web_developer</td>\n",
              "      <td>-0.251812</td>\n",
              "    </tr>\n",
              "    <tr>\n",
              "      <th>5</th>\n",
              "      <td>computer_research_scientist</td>\n",
              "      <td>-0.225940</td>\n",
              "    </tr>\n",
              "    <tr>\n",
              "      <th>6</th>\n",
              "      <td>network_and_systems_administrator</td>\n",
              "      <td>-0.584689</td>\n",
              "    </tr>\n",
              "    <tr>\n",
              "      <th>7</th>\n",
              "      <td>tech_entrepreneur</td>\n",
              "      <td>-0.453753</td>\n",
              "    </tr>\n",
              "    <tr>\n",
              "      <th>8</th>\n",
              "      <td>sales_engineer</td>\n",
              "      <td>-0.460426</td>\n",
              "    </tr>\n",
              "    <tr>\n",
              "      <th>9</th>\n",
              "      <td>information_technology_manager</td>\n",
              "      <td>-0.211150</td>\n",
              "    </tr>\n",
              "    <tr>\n",
              "      <th>10</th>\n",
              "      <td>pharmacist</td>\n",
              "      <td>0.166298</td>\n",
              "    </tr>\n",
              "    <tr>\n",
              "      <th>11</th>\n",
              "      <td>nurse_practitioner</td>\n",
              "      <td>0.743418</td>\n",
              "    </tr>\n",
              "    <tr>\n",
              "      <th>12</th>\n",
              "      <td>veterinarian</td>\n",
              "      <td>0.487130</td>\n",
              "    </tr>\n",
              "    <tr>\n",
              "      <th>13</th>\n",
              "      <td>physician_assistant</td>\n",
              "      <td>0.240621</td>\n",
              "    </tr>\n",
              "    <tr>\n",
              "      <th>14</th>\n",
              "      <td>occupational_therapist</td>\n",
              "      <td>0.274845</td>\n",
              "    </tr>\n",
              "    <tr>\n",
              "      <th>15</th>\n",
              "      <td>dental_hygienist</td>\n",
              "      <td>0.384025</td>\n",
              "    </tr>\n",
              "    <tr>\n",
              "      <th>16</th>\n",
              "      <td>dietitian_and_nutritionist</td>\n",
              "      <td>0.289550</td>\n",
              "    </tr>\n",
              "    <tr>\n",
              "      <th>17</th>\n",
              "      <td>administrative_assistant</td>\n",
              "      <td>0.128586</td>\n",
              "    </tr>\n",
              "    <tr>\n",
              "      <th>18</th>\n",
              "      <td>hairdresser_hair_stylist</td>\n",
              "      <td>0.243457</td>\n",
              "    </tr>\n",
              "    <tr>\n",
              "      <th>19</th>\n",
              "      <td>speech_language_pathologist</td>\n",
              "      <td>0.372967</td>\n",
              "    </tr>\n",
              "  </tbody>\n",
              "</table>\n",
              "</div>\n",
              "      <button class=\"colab-df-convert\" onclick=\"convertToInteractive('df-fb0b1338-5c0b-4b88-8cf1-d922c7a1a01a')\"\n",
              "              title=\"Convert this dataframe to an interactive table.\"\n",
              "              style=\"display:none;\">\n",
              "        \n",
              "  <svg xmlns=\"http://www.w3.org/2000/svg\" height=\"24px\"viewBox=\"0 0 24 24\"\n",
              "       width=\"24px\">\n",
              "    <path d=\"M0 0h24v24H0V0z\" fill=\"none\"/>\n",
              "    <path d=\"M18.56 5.44l.94 2.06.94-2.06 2.06-.94-2.06-.94-.94-2.06-.94 2.06-2.06.94zm-11 1L8.5 8.5l.94-2.06 2.06-.94-2.06-.94L8.5 2.5l-.94 2.06-2.06.94zm10 10l.94 2.06.94-2.06 2.06-.94-2.06-.94-.94-2.06-.94 2.06-2.06.94z\"/><path d=\"M17.41 7.96l-1.37-1.37c-.4-.4-.92-.59-1.43-.59-.52 0-1.04.2-1.43.59L10.3 9.45l-7.72 7.72c-.78.78-.78 2.05 0 2.83L4 21.41c.39.39.9.59 1.41.59.51 0 1.02-.2 1.41-.59l7.78-7.78 2.81-2.81c.8-.78.8-2.07 0-2.86zM5.41 20L4 18.59l7.72-7.72 1.47 1.35L5.41 20z\"/>\n",
              "  </svg>\n",
              "      </button>\n",
              "      \n",
              "  <style>\n",
              "    .colab-df-container {\n",
              "      display:flex;\n",
              "      flex-wrap:wrap;\n",
              "      gap: 12px;\n",
              "    }\n",
              "\n",
              "    .colab-df-convert {\n",
              "      background-color: #E8F0FE;\n",
              "      border: none;\n",
              "      border-radius: 50%;\n",
              "      cursor: pointer;\n",
              "      display: none;\n",
              "      fill: #1967D2;\n",
              "      height: 32px;\n",
              "      padding: 0 0 0 0;\n",
              "      width: 32px;\n",
              "    }\n",
              "\n",
              "    .colab-df-convert:hover {\n",
              "      background-color: #E2EBFA;\n",
              "      box-shadow: 0px 1px 2px rgba(60, 64, 67, 0.3), 0px 1px 3px 1px rgba(60, 64, 67, 0.15);\n",
              "      fill: #174EA6;\n",
              "    }\n",
              "\n",
              "    [theme=dark] .colab-df-convert {\n",
              "      background-color: #3B4455;\n",
              "      fill: #D2E3FC;\n",
              "    }\n",
              "\n",
              "    [theme=dark] .colab-df-convert:hover {\n",
              "      background-color: #434B5C;\n",
              "      box-shadow: 0px 1px 3px 1px rgba(0, 0, 0, 0.15);\n",
              "      filter: drop-shadow(0px 1px 2px rgba(0, 0, 0, 0.3));\n",
              "      fill: #FFFFFF;\n",
              "    }\n",
              "  </style>\n",
              "\n",
              "      <script>\n",
              "        const buttonEl =\n",
              "          document.querySelector('#df-fb0b1338-5c0b-4b88-8cf1-d922c7a1a01a button.colab-df-convert');\n",
              "        buttonEl.style.display =\n",
              "          google.colab.kernel.accessAllowed ? 'block' : 'none';\n",
              "\n",
              "        async function convertToInteractive(key) {\n",
              "          const element = document.querySelector('#df-fb0b1338-5c0b-4b88-8cf1-d922c7a1a01a');\n",
              "          const dataTable =\n",
              "            await google.colab.kernel.invokeFunction('convertToInteractive',\n",
              "                                                     [key], {});\n",
              "          if (!dataTable) return;\n",
              "\n",
              "          const docLinkHtml = 'Like what you see? Visit the ' +\n",
              "            '<a target=\"_blank\" href=https://colab.research.google.com/notebooks/data_table.ipynb>data table notebook</a>'\n",
              "            + ' to learn more about interactive tables.';\n",
              "          element.innerHTML = '';\n",
              "          dataTable['output_type'] = 'display_data';\n",
              "          await google.colab.output.renderOutput(dataTable, element);\n",
              "          const docLink = document.createElement('div');\n",
              "          docLink.innerHTML = docLinkHtml;\n",
              "          element.appendChild(docLink);\n",
              "        }\n",
              "      </script>\n",
              "    </div>\n",
              "  </div>\n",
              "  "
            ]
          },
          "metadata": {},
          "execution_count": 36
        }
      ]
    },
    {
      "cell_type": "code",
      "source": [
        "rb_df = pd.DataFrame.from_dict(rb.items())\n",
        "rb_df.columns = [\"Job Profile\", \"Ranking Bias\"]\n",
        "rb_df"
      ],
      "metadata": {
        "colab": {
          "base_uri": "https://localhost:8080/",
          "height": 676
        },
        "id": "1q5bcp_ED_z2",
        "outputId": "80dd841b-934a-4411-9f14-7a38d7236b8e"
      },
      "execution_count": 37,
      "outputs": [
        {
          "output_type": "execute_result",
          "data": {
            "text/plain": [
              "                          Job Profile  Ranking Bias\n",
              "0                      data_scientist     -0.169683\n",
              "1                  software_developer     -0.040770\n",
              "2        information_security_analyst     -0.127610\n",
              "3            computer_systems_analyst     -0.118182\n",
              "4                       web_developer     -0.129590\n",
              "5         computer_research_scientist     -0.125940\n",
              "6   network_and_systems_administrator     -0.106912\n",
              "7                   tech_entrepreneur     -0.075976\n",
              "8                      sales_engineer     -0.149315\n",
              "9      information_technology_manager     -0.144484\n",
              "10                         pharmacist     -0.033702\n",
              "11                 nurse_practitioner      0.010084\n",
              "12                       veterinarian      0.109352\n",
              "13                physician_assistant     -0.059379\n",
              "14             occupational_therapist     -0.058488\n",
              "15                   dental_hygienist     -0.138197\n",
              "16         dietitian_and_nutritionist     -0.043783\n",
              "17           administrative_assistant     -0.082525\n",
              "18           hairdresser_hair_stylist     -0.078765\n",
              "19        speech_language_pathologist     -0.104811"
            ],
            "text/html": [
              "\n",
              "  <div id=\"df-d6b6fc33-2c21-4f37-abb5-898b9b67dbe7\">\n",
              "    <div class=\"colab-df-container\">\n",
              "      <div>\n",
              "<style scoped>\n",
              "    .dataframe tbody tr th:only-of-type {\n",
              "        vertical-align: middle;\n",
              "    }\n",
              "\n",
              "    .dataframe tbody tr th {\n",
              "        vertical-align: top;\n",
              "    }\n",
              "\n",
              "    .dataframe thead th {\n",
              "        text-align: right;\n",
              "    }\n",
              "</style>\n",
              "<table border=\"1\" class=\"dataframe\">\n",
              "  <thead>\n",
              "    <tr style=\"text-align: right;\">\n",
              "      <th></th>\n",
              "      <th>Job Profile</th>\n",
              "      <th>Ranking Bias</th>\n",
              "    </tr>\n",
              "  </thead>\n",
              "  <tbody>\n",
              "    <tr>\n",
              "      <th>0</th>\n",
              "      <td>data_scientist</td>\n",
              "      <td>-0.169683</td>\n",
              "    </tr>\n",
              "    <tr>\n",
              "      <th>1</th>\n",
              "      <td>software_developer</td>\n",
              "      <td>-0.040770</td>\n",
              "    </tr>\n",
              "    <tr>\n",
              "      <th>2</th>\n",
              "      <td>information_security_analyst</td>\n",
              "      <td>-0.127610</td>\n",
              "    </tr>\n",
              "    <tr>\n",
              "      <th>3</th>\n",
              "      <td>computer_systems_analyst</td>\n",
              "      <td>-0.118182</td>\n",
              "    </tr>\n",
              "    <tr>\n",
              "      <th>4</th>\n",
              "      <td>web_developer</td>\n",
              "      <td>-0.129590</td>\n",
              "    </tr>\n",
              "    <tr>\n",
              "      <th>5</th>\n",
              "      <td>computer_research_scientist</td>\n",
              "      <td>-0.125940</td>\n",
              "    </tr>\n",
              "    <tr>\n",
              "      <th>6</th>\n",
              "      <td>network_and_systems_administrator</td>\n",
              "      <td>-0.106912</td>\n",
              "    </tr>\n",
              "    <tr>\n",
              "      <th>7</th>\n",
              "      <td>tech_entrepreneur</td>\n",
              "      <td>-0.075976</td>\n",
              "    </tr>\n",
              "    <tr>\n",
              "      <th>8</th>\n",
              "      <td>sales_engineer</td>\n",
              "      <td>-0.149315</td>\n",
              "    </tr>\n",
              "    <tr>\n",
              "      <th>9</th>\n",
              "      <td>information_technology_manager</td>\n",
              "      <td>-0.144484</td>\n",
              "    </tr>\n",
              "    <tr>\n",
              "      <th>10</th>\n",
              "      <td>pharmacist</td>\n",
              "      <td>-0.033702</td>\n",
              "    </tr>\n",
              "    <tr>\n",
              "      <th>11</th>\n",
              "      <td>nurse_practitioner</td>\n",
              "      <td>0.010084</td>\n",
              "    </tr>\n",
              "    <tr>\n",
              "      <th>12</th>\n",
              "      <td>veterinarian</td>\n",
              "      <td>0.109352</td>\n",
              "    </tr>\n",
              "    <tr>\n",
              "      <th>13</th>\n",
              "      <td>physician_assistant</td>\n",
              "      <td>-0.059379</td>\n",
              "    </tr>\n",
              "    <tr>\n",
              "      <th>14</th>\n",
              "      <td>occupational_therapist</td>\n",
              "      <td>-0.058488</td>\n",
              "    </tr>\n",
              "    <tr>\n",
              "      <th>15</th>\n",
              "      <td>dental_hygienist</td>\n",
              "      <td>-0.138197</td>\n",
              "    </tr>\n",
              "    <tr>\n",
              "      <th>16</th>\n",
              "      <td>dietitian_and_nutritionist</td>\n",
              "      <td>-0.043783</td>\n",
              "    </tr>\n",
              "    <tr>\n",
              "      <th>17</th>\n",
              "      <td>administrative_assistant</td>\n",
              "      <td>-0.082525</td>\n",
              "    </tr>\n",
              "    <tr>\n",
              "      <th>18</th>\n",
              "      <td>hairdresser_hair_stylist</td>\n",
              "      <td>-0.078765</td>\n",
              "    </tr>\n",
              "    <tr>\n",
              "      <th>19</th>\n",
              "      <td>speech_language_pathologist</td>\n",
              "      <td>-0.104811</td>\n",
              "    </tr>\n",
              "  </tbody>\n",
              "</table>\n",
              "</div>\n",
              "      <button class=\"colab-df-convert\" onclick=\"convertToInteractive('df-d6b6fc33-2c21-4f37-abb5-898b9b67dbe7')\"\n",
              "              title=\"Convert this dataframe to an interactive table.\"\n",
              "              style=\"display:none;\">\n",
              "        \n",
              "  <svg xmlns=\"http://www.w3.org/2000/svg\" height=\"24px\"viewBox=\"0 0 24 24\"\n",
              "       width=\"24px\">\n",
              "    <path d=\"M0 0h24v24H0V0z\" fill=\"none\"/>\n",
              "    <path d=\"M18.56 5.44l.94 2.06.94-2.06 2.06-.94-2.06-.94-.94-2.06-.94 2.06-2.06.94zm-11 1L8.5 8.5l.94-2.06 2.06-.94-2.06-.94L8.5 2.5l-.94 2.06-2.06.94zm10 10l.94 2.06.94-2.06 2.06-.94-2.06-.94-.94-2.06-.94 2.06-2.06.94z\"/><path d=\"M17.41 7.96l-1.37-1.37c-.4-.4-.92-.59-1.43-.59-.52 0-1.04.2-1.43.59L10.3 9.45l-7.72 7.72c-.78.78-.78 2.05 0 2.83L4 21.41c.39.39.9.59 1.41.59.51 0 1.02-.2 1.41-.59l7.78-7.78 2.81-2.81c.8-.78.8-2.07 0-2.86zM5.41 20L4 18.59l7.72-7.72 1.47 1.35L5.41 20z\"/>\n",
              "  </svg>\n",
              "      </button>\n",
              "      \n",
              "  <style>\n",
              "    .colab-df-container {\n",
              "      display:flex;\n",
              "      flex-wrap:wrap;\n",
              "      gap: 12px;\n",
              "    }\n",
              "\n",
              "    .colab-df-convert {\n",
              "      background-color: #E8F0FE;\n",
              "      border: none;\n",
              "      border-radius: 50%;\n",
              "      cursor: pointer;\n",
              "      display: none;\n",
              "      fill: #1967D2;\n",
              "      height: 32px;\n",
              "      padding: 0 0 0 0;\n",
              "      width: 32px;\n",
              "    }\n",
              "\n",
              "    .colab-df-convert:hover {\n",
              "      background-color: #E2EBFA;\n",
              "      box-shadow: 0px 1px 2px rgba(60, 64, 67, 0.3), 0px 1px 3px 1px rgba(60, 64, 67, 0.15);\n",
              "      fill: #174EA6;\n",
              "    }\n",
              "\n",
              "    [theme=dark] .colab-df-convert {\n",
              "      background-color: #3B4455;\n",
              "      fill: #D2E3FC;\n",
              "    }\n",
              "\n",
              "    [theme=dark] .colab-df-convert:hover {\n",
              "      background-color: #434B5C;\n",
              "      box-shadow: 0px 1px 3px 1px rgba(0, 0, 0, 0.15);\n",
              "      filter: drop-shadow(0px 1px 2px rgba(0, 0, 0, 0.3));\n",
              "      fill: #FFFFFF;\n",
              "    }\n",
              "  </style>\n",
              "\n",
              "      <script>\n",
              "        const buttonEl =\n",
              "          document.querySelector('#df-d6b6fc33-2c21-4f37-abb5-898b9b67dbe7 button.colab-df-convert');\n",
              "        buttonEl.style.display =\n",
              "          google.colab.kernel.accessAllowed ? 'block' : 'none';\n",
              "\n",
              "        async function convertToInteractive(key) {\n",
              "          const element = document.querySelector('#df-d6b6fc33-2c21-4f37-abb5-898b9b67dbe7');\n",
              "          const dataTable =\n",
              "            await google.colab.kernel.invokeFunction('convertToInteractive',\n",
              "                                                     [key], {});\n",
              "          if (!dataTable) return;\n",
              "\n",
              "          const docLinkHtml = 'Like what you see? Visit the ' +\n",
              "            '<a target=\"_blank\" href=https://colab.research.google.com/notebooks/data_table.ipynb>data table notebook</a>'\n",
              "            + ' to learn more about interactive tables.';\n",
              "          element.innerHTML = '';\n",
              "          dataTable['output_type'] = 'display_data';\n",
              "          await google.colab.output.renderOutput(dataTable, element);\n",
              "          const docLink = document.createElement('div');\n",
              "          docLink.innerHTML = docLinkHtml;\n",
              "          element.appendChild(docLink);\n",
              "        }\n",
              "      </script>\n",
              "    </div>\n",
              "  </div>\n",
              "  "
            ]
          },
          "metadata": {},
          "execution_count": 37
        }
      ]
    },
    {
      "cell_type": "code",
      "source": [
        ""
      ],
      "metadata": {
        "id": "Sp0mpnuCGW0g"
      },
      "execution_count": 37,
      "outputs": []
    },
    {
      "cell_type": "code",
      "source": [
        "class_dict = {}\n",
        "for key in ib.keys():\n",
        "  if key == ib_df[\"Job Profile\"][6] or key == ib_df[\"Job Profile\"][11] or key == ib_df[\"Job Profile\"][15] or key == ib_df[\"Job Profile\"][19] :\n",
        "    print(key)\n",
        "    class_dict[key]= \"High Input Bias Job\"\n",
        "  elif key == ib_df[\"Job Profile\"][3] or key == ib_df[\"Job Profile\"][4] or key == ib_df[\"Job Profile\"][5] or key == ib_df[\"Job Profile\"][9] :\n",
        "    print(key)\n",
        "    class_dict[key] = \"Low Input Bias Job\"\n",
        "  else:\n",
        "    class_dict[key] = \"Moderate Input Bias Job\""
      ],
      "metadata": {
        "colab": {
          "base_uri": "https://localhost:8080/"
        },
        "id": "i8MpKx3rHAEk",
        "outputId": "ad03b6b0-9564-46f1-885c-8b26d7230a81"
      },
      "execution_count": 38,
      "outputs": [
        {
          "output_type": "stream",
          "name": "stdout",
          "text": [
            "computer_systems_analyst\n",
            "web_developer\n",
            "computer_research_scientist\n",
            "network_and_systems_administrator\n",
            "information_technology_manager\n",
            "nurse_practitioner\n",
            "dental_hygienist\n",
            "speech_language_pathologist\n"
          ]
        }
      ]
    },
    {
      "cell_type": "code",
      "source": [
        "class_dict"
      ],
      "metadata": {
        "colab": {
          "base_uri": "https://localhost:8080/"
        },
        "id": "3vz2DgvRN_18",
        "outputId": "0a3457de-4f6d-490f-d304-cc9b77eb4c47"
      },
      "execution_count": 39,
      "outputs": [
        {
          "output_type": "execute_result",
          "data": {
            "text/plain": [
              "{'administrative_assistant': 'Moderate Input Bias Job',\n",
              " 'computer_research_scientist': 'Low Input Bias Job',\n",
              " 'computer_systems_analyst': 'Low Input Bias Job',\n",
              " 'data_scientist': 'Moderate Input Bias Job',\n",
              " 'dental_hygienist': 'High Input Bias Job',\n",
              " 'dietitian_and_nutritionist': 'Moderate Input Bias Job',\n",
              " 'hairdresser_hair_stylist': 'Moderate Input Bias Job',\n",
              " 'information_security_analyst': 'Moderate Input Bias Job',\n",
              " 'information_technology_manager': 'Low Input Bias Job',\n",
              " 'network_and_systems_administrator': 'High Input Bias Job',\n",
              " 'nurse_practitioner': 'High Input Bias Job',\n",
              " 'occupational_therapist': 'Moderate Input Bias Job',\n",
              " 'pharmacist': 'Moderate Input Bias Job',\n",
              " 'physician_assistant': 'Moderate Input Bias Job',\n",
              " 'sales_engineer': 'Moderate Input Bias Job',\n",
              " 'software_developer': 'Moderate Input Bias Job',\n",
              " 'speech_language_pathologist': 'High Input Bias Job',\n",
              " 'tech_entrepreneur': 'Moderate Input Bias Job',\n",
              " 'veterinarian': 'Moderate Input Bias Job',\n",
              " 'web_developer': 'Low Input Bias Job'}"
            ]
          },
          "metadata": {},
          "execution_count": 39
        }
      ]
    },
    {
      "cell_type": "code",
      "source": [
        "class_df = pd.DataFrame.from_dict(class_dict.items())\n",
        "class_df.columns = [\"Job Profile\", \"Type of Job\"]\n",
        "class_df"
      ],
      "metadata": {
        "colab": {
          "base_uri": "https://localhost:8080/",
          "height": 676
        },
        "id": "hq5YZtLRQr6g",
        "outputId": "b08b8746-9a69-4667-b71f-3647a60c414a"
      },
      "execution_count": 40,
      "outputs": [
        {
          "output_type": "execute_result",
          "data": {
            "text/plain": [
              "                          Job Profile              Type of Job\n",
              "0                      data_scientist  Moderate Input Bias Job\n",
              "1                  software_developer  Moderate Input Bias Job\n",
              "2        information_security_analyst  Moderate Input Bias Job\n",
              "3            computer_systems_analyst       Low Input Bias Job\n",
              "4                       web_developer       Low Input Bias Job\n",
              "5         computer_research_scientist       Low Input Bias Job\n",
              "6   network_and_systems_administrator      High Input Bias Job\n",
              "7                   tech_entrepreneur  Moderate Input Bias Job\n",
              "8                      sales_engineer  Moderate Input Bias Job\n",
              "9      information_technology_manager       Low Input Bias Job\n",
              "10                         pharmacist  Moderate Input Bias Job\n",
              "11                 nurse_practitioner      High Input Bias Job\n",
              "12                       veterinarian  Moderate Input Bias Job\n",
              "13                physician_assistant  Moderate Input Bias Job\n",
              "14             occupational_therapist  Moderate Input Bias Job\n",
              "15                   dental_hygienist      High Input Bias Job\n",
              "16         dietitian_and_nutritionist  Moderate Input Bias Job\n",
              "17           administrative_assistant  Moderate Input Bias Job\n",
              "18           hairdresser_hair_stylist  Moderate Input Bias Job\n",
              "19        speech_language_pathologist      High Input Bias Job"
            ],
            "text/html": [
              "\n",
              "  <div id=\"df-1890e558-fafe-4f51-8156-4a7decdd3820\">\n",
              "    <div class=\"colab-df-container\">\n",
              "      <div>\n",
              "<style scoped>\n",
              "    .dataframe tbody tr th:only-of-type {\n",
              "        vertical-align: middle;\n",
              "    }\n",
              "\n",
              "    .dataframe tbody tr th {\n",
              "        vertical-align: top;\n",
              "    }\n",
              "\n",
              "    .dataframe thead th {\n",
              "        text-align: right;\n",
              "    }\n",
              "</style>\n",
              "<table border=\"1\" class=\"dataframe\">\n",
              "  <thead>\n",
              "    <tr style=\"text-align: right;\">\n",
              "      <th></th>\n",
              "      <th>Job Profile</th>\n",
              "      <th>Type of Job</th>\n",
              "    </tr>\n",
              "  </thead>\n",
              "  <tbody>\n",
              "    <tr>\n",
              "      <th>0</th>\n",
              "      <td>data_scientist</td>\n",
              "      <td>Moderate Input Bias Job</td>\n",
              "    </tr>\n",
              "    <tr>\n",
              "      <th>1</th>\n",
              "      <td>software_developer</td>\n",
              "      <td>Moderate Input Bias Job</td>\n",
              "    </tr>\n",
              "    <tr>\n",
              "      <th>2</th>\n",
              "      <td>information_security_analyst</td>\n",
              "      <td>Moderate Input Bias Job</td>\n",
              "    </tr>\n",
              "    <tr>\n",
              "      <th>3</th>\n",
              "      <td>computer_systems_analyst</td>\n",
              "      <td>Low Input Bias Job</td>\n",
              "    </tr>\n",
              "    <tr>\n",
              "      <th>4</th>\n",
              "      <td>web_developer</td>\n",
              "      <td>Low Input Bias Job</td>\n",
              "    </tr>\n",
              "    <tr>\n",
              "      <th>5</th>\n",
              "      <td>computer_research_scientist</td>\n",
              "      <td>Low Input Bias Job</td>\n",
              "    </tr>\n",
              "    <tr>\n",
              "      <th>6</th>\n",
              "      <td>network_and_systems_administrator</td>\n",
              "      <td>High Input Bias Job</td>\n",
              "    </tr>\n",
              "    <tr>\n",
              "      <th>7</th>\n",
              "      <td>tech_entrepreneur</td>\n",
              "      <td>Moderate Input Bias Job</td>\n",
              "    </tr>\n",
              "    <tr>\n",
              "      <th>8</th>\n",
              "      <td>sales_engineer</td>\n",
              "      <td>Moderate Input Bias Job</td>\n",
              "    </tr>\n",
              "    <tr>\n",
              "      <th>9</th>\n",
              "      <td>information_technology_manager</td>\n",
              "      <td>Low Input Bias Job</td>\n",
              "    </tr>\n",
              "    <tr>\n",
              "      <th>10</th>\n",
              "      <td>pharmacist</td>\n",
              "      <td>Moderate Input Bias Job</td>\n",
              "    </tr>\n",
              "    <tr>\n",
              "      <th>11</th>\n",
              "      <td>nurse_practitioner</td>\n",
              "      <td>High Input Bias Job</td>\n",
              "    </tr>\n",
              "    <tr>\n",
              "      <th>12</th>\n",
              "      <td>veterinarian</td>\n",
              "      <td>Moderate Input Bias Job</td>\n",
              "    </tr>\n",
              "    <tr>\n",
              "      <th>13</th>\n",
              "      <td>physician_assistant</td>\n",
              "      <td>Moderate Input Bias Job</td>\n",
              "    </tr>\n",
              "    <tr>\n",
              "      <th>14</th>\n",
              "      <td>occupational_therapist</td>\n",
              "      <td>Moderate Input Bias Job</td>\n",
              "    </tr>\n",
              "    <tr>\n",
              "      <th>15</th>\n",
              "      <td>dental_hygienist</td>\n",
              "      <td>High Input Bias Job</td>\n",
              "    </tr>\n",
              "    <tr>\n",
              "      <th>16</th>\n",
              "      <td>dietitian_and_nutritionist</td>\n",
              "      <td>Moderate Input Bias Job</td>\n",
              "    </tr>\n",
              "    <tr>\n",
              "      <th>17</th>\n",
              "      <td>administrative_assistant</td>\n",
              "      <td>Moderate Input Bias Job</td>\n",
              "    </tr>\n",
              "    <tr>\n",
              "      <th>18</th>\n",
              "      <td>hairdresser_hair_stylist</td>\n",
              "      <td>Moderate Input Bias Job</td>\n",
              "    </tr>\n",
              "    <tr>\n",
              "      <th>19</th>\n",
              "      <td>speech_language_pathologist</td>\n",
              "      <td>High Input Bias Job</td>\n",
              "    </tr>\n",
              "  </tbody>\n",
              "</table>\n",
              "</div>\n",
              "      <button class=\"colab-df-convert\" onclick=\"convertToInteractive('df-1890e558-fafe-4f51-8156-4a7decdd3820')\"\n",
              "              title=\"Convert this dataframe to an interactive table.\"\n",
              "              style=\"display:none;\">\n",
              "        \n",
              "  <svg xmlns=\"http://www.w3.org/2000/svg\" height=\"24px\"viewBox=\"0 0 24 24\"\n",
              "       width=\"24px\">\n",
              "    <path d=\"M0 0h24v24H0V0z\" fill=\"none\"/>\n",
              "    <path d=\"M18.56 5.44l.94 2.06.94-2.06 2.06-.94-2.06-.94-.94-2.06-.94 2.06-2.06.94zm-11 1L8.5 8.5l.94-2.06 2.06-.94-2.06-.94L8.5 2.5l-.94 2.06-2.06.94zm10 10l.94 2.06.94-2.06 2.06-.94-2.06-.94-.94-2.06-.94 2.06-2.06.94z\"/><path d=\"M17.41 7.96l-1.37-1.37c-.4-.4-.92-.59-1.43-.59-.52 0-1.04.2-1.43.59L10.3 9.45l-7.72 7.72c-.78.78-.78 2.05 0 2.83L4 21.41c.39.39.9.59 1.41.59.51 0 1.02-.2 1.41-.59l7.78-7.78 2.81-2.81c.8-.78.8-2.07 0-2.86zM5.41 20L4 18.59l7.72-7.72 1.47 1.35L5.41 20z\"/>\n",
              "  </svg>\n",
              "      </button>\n",
              "      \n",
              "  <style>\n",
              "    .colab-df-container {\n",
              "      display:flex;\n",
              "      flex-wrap:wrap;\n",
              "      gap: 12px;\n",
              "    }\n",
              "\n",
              "    .colab-df-convert {\n",
              "      background-color: #E8F0FE;\n",
              "      border: none;\n",
              "      border-radius: 50%;\n",
              "      cursor: pointer;\n",
              "      display: none;\n",
              "      fill: #1967D2;\n",
              "      height: 32px;\n",
              "      padding: 0 0 0 0;\n",
              "      width: 32px;\n",
              "    }\n",
              "\n",
              "    .colab-df-convert:hover {\n",
              "      background-color: #E2EBFA;\n",
              "      box-shadow: 0px 1px 2px rgba(60, 64, 67, 0.3), 0px 1px 3px 1px rgba(60, 64, 67, 0.15);\n",
              "      fill: #174EA6;\n",
              "    }\n",
              "\n",
              "    [theme=dark] .colab-df-convert {\n",
              "      background-color: #3B4455;\n",
              "      fill: #D2E3FC;\n",
              "    }\n",
              "\n",
              "    [theme=dark] .colab-df-convert:hover {\n",
              "      background-color: #434B5C;\n",
              "      box-shadow: 0px 1px 3px 1px rgba(0, 0, 0, 0.15);\n",
              "      filter: drop-shadow(0px 1px 2px rgba(0, 0, 0, 0.3));\n",
              "      fill: #FFFFFF;\n",
              "    }\n",
              "  </style>\n",
              "\n",
              "      <script>\n",
              "        const buttonEl =\n",
              "          document.querySelector('#df-1890e558-fafe-4f51-8156-4a7decdd3820 button.colab-df-convert');\n",
              "        buttonEl.style.display =\n",
              "          google.colab.kernel.accessAllowed ? 'block' : 'none';\n",
              "\n",
              "        async function convertToInteractive(key) {\n",
              "          const element = document.querySelector('#df-1890e558-fafe-4f51-8156-4a7decdd3820');\n",
              "          const dataTable =\n",
              "            await google.colab.kernel.invokeFunction('convertToInteractive',\n",
              "                                                     [key], {});\n",
              "          if (!dataTable) return;\n",
              "\n",
              "          const docLinkHtml = 'Like what you see? Visit the ' +\n",
              "            '<a target=\"_blank\" href=https://colab.research.google.com/notebooks/data_table.ipynb>data table notebook</a>'\n",
              "            + ' to learn more about interactive tables.';\n",
              "          element.innerHTML = '';\n",
              "          dataTable['output_type'] = 'display_data';\n",
              "          await google.colab.output.renderOutput(dataTable, element);\n",
              "          const docLink = document.createElement('div');\n",
              "          docLink.innerHTML = docLinkHtml;\n",
              "          element.appendChild(docLink);\n",
              "        }\n",
              "      </script>\n",
              "    </div>\n",
              "  </div>\n",
              "  "
            ]
          },
          "metadata": {},
          "execution_count": 40
        }
      ]
    },
    {
      "cell_type": "code",
      "source": [
        "new_df = pd.concat([class_df[\"Type of Job\"],ib_df[\"Input Bias\"],rb_df[\"Ranking Bias\"]], axis = 1)\n",
        "new_df"
      ],
      "metadata": {
        "colab": {
          "base_uri": "https://localhost:8080/",
          "height": 676
        },
        "id": "GV73pXVjRCfc",
        "outputId": "dc12b0bb-ab2e-4e3c-d217-4f86c302f8de"
      },
      "execution_count": 41,
      "outputs": [
        {
          "output_type": "execute_result",
          "data": {
            "text/plain": [
              "                Type of Job  Input Bias  Ranking Bias\n",
              "0   Moderate Input Bias Job   -0.177778     -0.169683\n",
              "1   Moderate Input Bias Job   -0.255556     -0.040770\n",
              "2   Moderate Input Bias Job   -0.288889     -0.127610\n",
              "3        Low Input Bias Job   -0.100000     -0.118182\n",
              "4        Low Input Bias Job   -0.122222     -0.129590\n",
              "5        Low Input Bias Job   -0.100000     -0.125940\n",
              "6       High Input Bias Job   -0.477778     -0.106912\n",
              "7   Moderate Input Bias Job   -0.377778     -0.075976\n",
              "8   Moderate Input Bias Job   -0.311111     -0.149315\n",
              "9        Low Input Bias Job   -0.066667     -0.144484\n",
              "10  Moderate Input Bias Job    0.200000     -0.033702\n",
              "11      High Input Bias Job    0.733333      0.010084\n",
              "12  Moderate Input Bias Job    0.377778      0.109352\n",
              "13  Moderate Input Bias Job    0.300000     -0.059379\n",
              "14  Moderate Input Bias Job    0.333333     -0.058488\n",
              "15      High Input Bias Job    0.522222     -0.138197\n",
              "16  Moderate Input Bias Job    0.333333     -0.043783\n",
              "17  Moderate Input Bias Job    0.211111     -0.082525\n",
              "18  Moderate Input Bias Job    0.322222     -0.078765\n",
              "19      High Input Bias Job    0.477778     -0.104811"
            ],
            "text/html": [
              "\n",
              "  <div id=\"df-138663bd-d2fe-4f2b-9356-8c230ec7da04\">\n",
              "    <div class=\"colab-df-container\">\n",
              "      <div>\n",
              "<style scoped>\n",
              "    .dataframe tbody tr th:only-of-type {\n",
              "        vertical-align: middle;\n",
              "    }\n",
              "\n",
              "    .dataframe tbody tr th {\n",
              "        vertical-align: top;\n",
              "    }\n",
              "\n",
              "    .dataframe thead th {\n",
              "        text-align: right;\n",
              "    }\n",
              "</style>\n",
              "<table border=\"1\" class=\"dataframe\">\n",
              "  <thead>\n",
              "    <tr style=\"text-align: right;\">\n",
              "      <th></th>\n",
              "      <th>Type of Job</th>\n",
              "      <th>Input Bias</th>\n",
              "      <th>Ranking Bias</th>\n",
              "    </tr>\n",
              "  </thead>\n",
              "  <tbody>\n",
              "    <tr>\n",
              "      <th>0</th>\n",
              "      <td>Moderate Input Bias Job</td>\n",
              "      <td>-0.177778</td>\n",
              "      <td>-0.169683</td>\n",
              "    </tr>\n",
              "    <tr>\n",
              "      <th>1</th>\n",
              "      <td>Moderate Input Bias Job</td>\n",
              "      <td>-0.255556</td>\n",
              "      <td>-0.040770</td>\n",
              "    </tr>\n",
              "    <tr>\n",
              "      <th>2</th>\n",
              "      <td>Moderate Input Bias Job</td>\n",
              "      <td>-0.288889</td>\n",
              "      <td>-0.127610</td>\n",
              "    </tr>\n",
              "    <tr>\n",
              "      <th>3</th>\n",
              "      <td>Low Input Bias Job</td>\n",
              "      <td>-0.100000</td>\n",
              "      <td>-0.118182</td>\n",
              "    </tr>\n",
              "    <tr>\n",
              "      <th>4</th>\n",
              "      <td>Low Input Bias Job</td>\n",
              "      <td>-0.122222</td>\n",
              "      <td>-0.129590</td>\n",
              "    </tr>\n",
              "    <tr>\n",
              "      <th>5</th>\n",
              "      <td>Low Input Bias Job</td>\n",
              "      <td>-0.100000</td>\n",
              "      <td>-0.125940</td>\n",
              "    </tr>\n",
              "    <tr>\n",
              "      <th>6</th>\n",
              "      <td>High Input Bias Job</td>\n",
              "      <td>-0.477778</td>\n",
              "      <td>-0.106912</td>\n",
              "    </tr>\n",
              "    <tr>\n",
              "      <th>7</th>\n",
              "      <td>Moderate Input Bias Job</td>\n",
              "      <td>-0.377778</td>\n",
              "      <td>-0.075976</td>\n",
              "    </tr>\n",
              "    <tr>\n",
              "      <th>8</th>\n",
              "      <td>Moderate Input Bias Job</td>\n",
              "      <td>-0.311111</td>\n",
              "      <td>-0.149315</td>\n",
              "    </tr>\n",
              "    <tr>\n",
              "      <th>9</th>\n",
              "      <td>Low Input Bias Job</td>\n",
              "      <td>-0.066667</td>\n",
              "      <td>-0.144484</td>\n",
              "    </tr>\n",
              "    <tr>\n",
              "      <th>10</th>\n",
              "      <td>Moderate Input Bias Job</td>\n",
              "      <td>0.200000</td>\n",
              "      <td>-0.033702</td>\n",
              "    </tr>\n",
              "    <tr>\n",
              "      <th>11</th>\n",
              "      <td>High Input Bias Job</td>\n",
              "      <td>0.733333</td>\n",
              "      <td>0.010084</td>\n",
              "    </tr>\n",
              "    <tr>\n",
              "      <th>12</th>\n",
              "      <td>Moderate Input Bias Job</td>\n",
              "      <td>0.377778</td>\n",
              "      <td>0.109352</td>\n",
              "    </tr>\n",
              "    <tr>\n",
              "      <th>13</th>\n",
              "      <td>Moderate Input Bias Job</td>\n",
              "      <td>0.300000</td>\n",
              "      <td>-0.059379</td>\n",
              "    </tr>\n",
              "    <tr>\n",
              "      <th>14</th>\n",
              "      <td>Moderate Input Bias Job</td>\n",
              "      <td>0.333333</td>\n",
              "      <td>-0.058488</td>\n",
              "    </tr>\n",
              "    <tr>\n",
              "      <th>15</th>\n",
              "      <td>High Input Bias Job</td>\n",
              "      <td>0.522222</td>\n",
              "      <td>-0.138197</td>\n",
              "    </tr>\n",
              "    <tr>\n",
              "      <th>16</th>\n",
              "      <td>Moderate Input Bias Job</td>\n",
              "      <td>0.333333</td>\n",
              "      <td>-0.043783</td>\n",
              "    </tr>\n",
              "    <tr>\n",
              "      <th>17</th>\n",
              "      <td>Moderate Input Bias Job</td>\n",
              "      <td>0.211111</td>\n",
              "      <td>-0.082525</td>\n",
              "    </tr>\n",
              "    <tr>\n",
              "      <th>18</th>\n",
              "      <td>Moderate Input Bias Job</td>\n",
              "      <td>0.322222</td>\n",
              "      <td>-0.078765</td>\n",
              "    </tr>\n",
              "    <tr>\n",
              "      <th>19</th>\n",
              "      <td>High Input Bias Job</td>\n",
              "      <td>0.477778</td>\n",
              "      <td>-0.104811</td>\n",
              "    </tr>\n",
              "  </tbody>\n",
              "</table>\n",
              "</div>\n",
              "      <button class=\"colab-df-convert\" onclick=\"convertToInteractive('df-138663bd-d2fe-4f2b-9356-8c230ec7da04')\"\n",
              "              title=\"Convert this dataframe to an interactive table.\"\n",
              "              style=\"display:none;\">\n",
              "        \n",
              "  <svg xmlns=\"http://www.w3.org/2000/svg\" height=\"24px\"viewBox=\"0 0 24 24\"\n",
              "       width=\"24px\">\n",
              "    <path d=\"M0 0h24v24H0V0z\" fill=\"none\"/>\n",
              "    <path d=\"M18.56 5.44l.94 2.06.94-2.06 2.06-.94-2.06-.94-.94-2.06-.94 2.06-2.06.94zm-11 1L8.5 8.5l.94-2.06 2.06-.94-2.06-.94L8.5 2.5l-.94 2.06-2.06.94zm10 10l.94 2.06.94-2.06 2.06-.94-2.06-.94-.94-2.06-.94 2.06-2.06.94z\"/><path d=\"M17.41 7.96l-1.37-1.37c-.4-.4-.92-.59-1.43-.59-.52 0-1.04.2-1.43.59L10.3 9.45l-7.72 7.72c-.78.78-.78 2.05 0 2.83L4 21.41c.39.39.9.59 1.41.59.51 0 1.02-.2 1.41-.59l7.78-7.78 2.81-2.81c.8-.78.8-2.07 0-2.86zM5.41 20L4 18.59l7.72-7.72 1.47 1.35L5.41 20z\"/>\n",
              "  </svg>\n",
              "      </button>\n",
              "      \n",
              "  <style>\n",
              "    .colab-df-container {\n",
              "      display:flex;\n",
              "      flex-wrap:wrap;\n",
              "      gap: 12px;\n",
              "    }\n",
              "\n",
              "    .colab-df-convert {\n",
              "      background-color: #E8F0FE;\n",
              "      border: none;\n",
              "      border-radius: 50%;\n",
              "      cursor: pointer;\n",
              "      display: none;\n",
              "      fill: #1967D2;\n",
              "      height: 32px;\n",
              "      padding: 0 0 0 0;\n",
              "      width: 32px;\n",
              "    }\n",
              "\n",
              "    .colab-df-convert:hover {\n",
              "      background-color: #E2EBFA;\n",
              "      box-shadow: 0px 1px 2px rgba(60, 64, 67, 0.3), 0px 1px 3px 1px rgba(60, 64, 67, 0.15);\n",
              "      fill: #174EA6;\n",
              "    }\n",
              "\n",
              "    [theme=dark] .colab-df-convert {\n",
              "      background-color: #3B4455;\n",
              "      fill: #D2E3FC;\n",
              "    }\n",
              "\n",
              "    [theme=dark] .colab-df-convert:hover {\n",
              "      background-color: #434B5C;\n",
              "      box-shadow: 0px 1px 3px 1px rgba(0, 0, 0, 0.15);\n",
              "      filter: drop-shadow(0px 1px 2px rgba(0, 0, 0, 0.3));\n",
              "      fill: #FFFFFF;\n",
              "    }\n",
              "  </style>\n",
              "\n",
              "      <script>\n",
              "        const buttonEl =\n",
              "          document.querySelector('#df-138663bd-d2fe-4f2b-9356-8c230ec7da04 button.colab-df-convert');\n",
              "        buttonEl.style.display =\n",
              "          google.colab.kernel.accessAllowed ? 'block' : 'none';\n",
              "\n",
              "        async function convertToInteractive(key) {\n",
              "          const element = document.querySelector('#df-138663bd-d2fe-4f2b-9356-8c230ec7da04');\n",
              "          const dataTable =\n",
              "            await google.colab.kernel.invokeFunction('convertToInteractive',\n",
              "                                                     [key], {});\n",
              "          if (!dataTable) return;\n",
              "\n",
              "          const docLinkHtml = 'Like what you see? Visit the ' +\n",
              "            '<a target=\"_blank\" href=https://colab.research.google.com/notebooks/data_table.ipynb>data table notebook</a>'\n",
              "            + ' to learn more about interactive tables.';\n",
              "          element.innerHTML = '';\n",
              "          dataTable['output_type'] = 'display_data';\n",
              "          await google.colab.output.renderOutput(dataTable, element);\n",
              "          const docLink = document.createElement('div');\n",
              "          docLink.innerHTML = docLinkHtml;\n",
              "          element.appendChild(docLink);\n",
              "        }\n",
              "      </script>\n",
              "    </div>\n",
              "  </div>\n",
              "  "
            ]
          },
          "metadata": {},
          "execution_count": 41
        }
      ]
    },
    {
      "cell_type": "code",
      "source": [
        "# libraries\n",
        "from pandas.plotting import parallel_coordinates\n",
        "plt.figure(figsize = (10,10))\n",
        "parallel_coordinates(new_df, 'Type of Job', colormap=plt.get_cmap(\"Set2\"))\n",
        "plt.show()"
      ],
      "metadata": {
        "colab": {
          "base_uri": "https://localhost:8080/",
          "height": 592
        },
        "id": "l_3YoKKIRRwB",
        "outputId": "3834b83b-2259-46c9-874b-ccf8f222c1b0"
      },
      "execution_count": 42,
      "outputs": [
        {
          "output_type": "display_data",
          "data": {
            "text/plain": [
              "<Figure size 720x720 with 1 Axes>"
            ],
            "image/png": "[encoded data removed]"
          },
          "metadata": {}
        }
      ]
    },
    {
      "cell_type": "code",
      "source": [
        "new_df[\"Input Bias\"] = new_df[\"Input Bias\"].apply(abs)\n",
        "new_df[\"Ranking Bias\"] = new_df[\"Ranking Bias\"].apply(abs)\n",
        "new_df"
      ],
      "metadata": {
        "colab": {
          "base_uri": "https://localhost:8080/",
          "height": 676
        },
        "id": "NxiFTglkTrKx",
        "outputId": "e78ff128-afdf-4020-faa1-06699222f178"
      },
      "execution_count": 43,
      "outputs": [
        {
          "output_type": "execute_result",
          "data": {
            "text/plain": [
              "                Type of Job  Input Bias  Ranking Bias\n",
              "0   Moderate Input Bias Job    0.177778      0.169683\n",
              "1   Moderate Input Bias Job    0.255556      0.040770\n",
              "2   Moderate Input Bias Job    0.288889      0.127610\n",
              "3        Low Input Bias Job    0.100000      0.118182\n",
              "4        Low Input Bias Job    0.122222      0.129590\n",
              "5        Low Input Bias Job    0.100000      0.125940\n",
              "6       High Input Bias Job    0.477778      0.106912\n",
              "7   Moderate Input Bias Job    0.377778      0.075976\n",
              "8   Moderate Input Bias Job    0.311111      0.149315\n",
              "9        Low Input Bias Job    0.066667      0.144484\n",
              "10  Moderate Input Bias Job    0.200000      0.033702\n",
              "11      High Input Bias Job    0.733333      0.010084\n",
              "12  Moderate Input Bias Job    0.377778      0.109352\n",
              "13  Moderate Input Bias Job    0.300000      0.059379\n",
              "14  Moderate Input Bias Job    0.333333      0.058488\n",
              "15      High Input Bias Job    0.522222      0.138197\n",
              "16  Moderate Input Bias Job    0.333333      0.043783\n",
              "17  Moderate Input Bias Job    0.211111      0.082525\n",
              "18  Moderate Input Bias Job    0.322222      0.078765\n",
              "19      High Input Bias Job    0.477778      0.104811"
            ],
            "text/html": [
              "\n",
              "  <div id=\"df-53e515a0-9ad9-4cec-b73b-13b145b2ceb9\">\n",
              "    <div class=\"colab-df-container\">\n",
              "      <div>\n",
              "<style scoped>\n",
              "    .dataframe tbody tr th:only-of-type {\n",
              "        vertical-align: middle;\n",
              "    }\n",
              "\n",
              "    .dataframe tbody tr th {\n",
              "        vertical-align: top;\n",
              "    }\n",
              "\n",
              "    .dataframe thead th {\n",
              "        text-align: right;\n",
              "    }\n",
              "</style>\n",
              "<table border=\"1\" class=\"dataframe\">\n",
              "  <thead>\n",
              "    <tr style=\"text-align: right;\">\n",
              "      <th></th>\n",
              "      <th>Type of Job</th>\n",
              "      <th>Input Bias</th>\n",
              "      <th>Ranking Bias</th>\n",
              "    </tr>\n",
              "  </thead>\n",
              "  <tbody>\n",
              "    <tr>\n",
              "      <th>0</th>\n",
              "      <td>Moderate Input Bias Job</td>\n",
              "      <td>0.177778</td>\n",
              "      <td>0.169683</td>\n",
              "    </tr>\n",
              "    <tr>\n",
              "      <th>1</th>\n",
              "      <td>Moderate Input Bias Job</td>\n",
              "      <td>0.255556</td>\n",
              "      <td>0.040770</td>\n",
              "    </tr>\n",
              "    <tr>\n",
              "      <th>2</th>\n",
              "      <td>Moderate Input Bias Job</td>\n",
              "      <td>0.288889</td>\n",
              "      <td>0.127610</td>\n",
              "    </tr>\n",
              "    <tr>\n",
              "      <th>3</th>\n",
              "      <td>Low Input Bias Job</td>\n",
              "      <td>0.100000</td>\n",
              "      <td>0.118182</td>\n",
              "    </tr>\n",
              "    <tr>\n",
              "      <th>4</th>\n",
              "      <td>Low Input Bias Job</td>\n",
              "      <td>0.122222</td>\n",
              "      <td>0.129590</td>\n",
              "    </tr>\n",
              "    <tr>\n",
              "      <th>5</th>\n",
              "      <td>Low Input Bias Job</td>\n",
              "      <td>0.100000</td>\n",
              "      <td>0.125940</td>\n",
              "    </tr>\n",
              "    <tr>\n",
              "      <th>6</th>\n",
              "      <td>High Input Bias Job</td>\n",
              "      <td>0.477778</td>\n",
              "      <td>0.106912</td>\n",
              "    </tr>\n",
              "    <tr>\n",
              "      <th>7</th>\n",
              "      <td>Moderate Input Bias Job</td>\n",
              "      <td>0.377778</td>\n",
              "      <td>0.075976</td>\n",
              "    </tr>\n",
              "    <tr>\n",
              "      <th>8</th>\n",
              "      <td>Moderate Input Bias Job</td>\n",
              "      <td>0.311111</td>\n",
              "      <td>0.149315</td>\n",
              "    </tr>\n",
              "    <tr>\n",
              "      <th>9</th>\n",
              "      <td>Low Input Bias Job</td>\n",
              "      <td>0.066667</td>\n",
              "      <td>0.144484</td>\n",
              "    </tr>\n",
              "    <tr>\n",
              "      <th>10</th>\n",
              "      <td>Moderate Input Bias Job</td>\n",
              "      <td>0.200000</td>\n",
              "      <td>0.033702</td>\n",
              "    </tr>\n",
              "    <tr>\n",
              "      <th>11</th>\n",
              "      <td>High Input Bias Job</td>\n",
              "      <td>0.733333</td>\n",
              "      <td>0.010084</td>\n",
              "    </tr>\n",
              "    <tr>\n",
              "      <th>12</th>\n",
              "      <td>Moderate Input Bias Job</td>\n",
              "      <td>0.377778</td>\n",
              "      <td>0.109352</td>\n",
              "    </tr>\n",
              "    <tr>\n",
              "      <th>13</th>\n",
              "      <td>Moderate Input Bias Job</td>\n",
              "      <td>0.300000</td>\n",
              "      <td>0.059379</td>\n",
              "    </tr>\n",
              "    <tr>\n",
              "      <th>14</th>\n",
              "      <td>Moderate Input Bias Job</td>\n",
              "      <td>0.333333</td>\n",
              "      <td>0.058488</td>\n",
              "    </tr>\n",
              "    <tr>\n",
              "      <th>15</th>\n",
              "      <td>High Input Bias Job</td>\n",
              "      <td>0.522222</td>\n",
              "      <td>0.138197</td>\n",
              "    </tr>\n",
              "    <tr>\n",
              "      <th>16</th>\n",
              "      <td>Moderate Input Bias Job</td>\n",
              "      <td>0.333333</td>\n",
              "      <td>0.043783</td>\n",
              "    </tr>\n",
              "    <tr>\n",
              "      <th>17</th>\n",
              "      <td>Moderate Input Bias Job</td>\n",
              "      <td>0.211111</td>\n",
              "      <td>0.082525</td>\n",
              "    </tr>\n",
              "    <tr>\n",
              "      <th>18</th>\n",
              "      <td>Moderate Input Bias Job</td>\n",
              "      <td>0.322222</td>\n",
              "      <td>0.078765</td>\n",
              "    </tr>\n",
              "    <tr>\n",
              "      <th>19</th>\n",
              "      <td>High Input Bias Job</td>\n",
              "      <td>0.477778</td>\n",
              "      <td>0.104811</td>\n",
              "    </tr>\n",
              "  </tbody>\n",
              "</table>\n",
              "</div>\n",
              "      <button class=\"colab-df-convert\" onclick=\"convertToInteractive('df-53e515a0-9ad9-4cec-b73b-13b145b2ceb9')\"\n",
              "              title=\"Convert this dataframe to an interactive table.\"\n",
              "              style=\"display:none;\">\n",
              "        \n",
              "  <svg xmlns=\"http://www.w3.org/2000/svg\" height=\"24px\"viewBox=\"0 0 24 24\"\n",
              "       width=\"24px\">\n",
              "    <path d=\"M0 0h24v24H0V0z\" fill=\"none\"/>\n",
              "    <path d=\"M18.56 5.44l.94 2.06.94-2.06 2.06-.94-2.06-.94-.94-2.06-.94 2.06-2.06.94zm-11 1L8.5 8.5l.94-2.06 2.06-.94-2.06-.94L8.5 2.5l-.94 2.06-2.06.94zm10 10l.94 2.06.94-2.06 2.06-.94-2.06-.94-.94-2.06-.94 2.06-2.06.94z\"/><path d=\"M17.41 7.96l-1.37-1.37c-.4-.4-.92-.59-1.43-.59-.52 0-1.04.2-1.43.59L10.3 9.45l-7.72 7.72c-.78.78-.78 2.05 0 2.83L4 21.41c.39.39.9.59 1.41.59.51 0 1.02-.2 1.41-.59l7.78-7.78 2.81-2.81c.8-.78.8-2.07 0-2.86zM5.41 20L4 18.59l7.72-7.72 1.47 1.35L5.41 20z\"/>\n",
              "  </svg>\n",
              "      </button>\n",
              "      \n",
              "  <style>\n",
              "    .colab-df-container {\n",
              "      display:flex;\n",
              "      flex-wrap:wrap;\n",
              "      gap: 12px;\n",
              "    }\n",
              "\n",
              "    .colab-df-convert {\n",
              "      background-color: #E8F0FE;\n",
              "      border: none;\n",
              "      border-radius: 50%;\n",
              "      cursor: pointer;\n",
              "      display: none;\n",
              "      fill: #1967D2;\n",
              "      height: 32px;\n",
              "      padding: 0 0 0 0;\n",
              "      width: 32px;\n",
              "    }\n",
              "\n",
              "    .colab-df-convert:hover {\n",
              "      background-color: #E2EBFA;\n",
              "      box-shadow: 0px 1px 2px rgba(60, 64, 67, 0.3), 0px 1px 3px 1px rgba(60, 64, 67, 0.15);\n",
              "      fill: #174EA6;\n",
              "    }\n",
              "\n",
              "    [theme=dark] .colab-df-convert {\n",
              "      background-color: #3B4455;\n",
              "      fill: #D2E3FC;\n",
              "    }\n",
              "\n",
              "    [theme=dark] .colab-df-convert:hover {\n",
              "      background-color: #434B5C;\n",
              "      box-shadow: 0px 1px 3px 1px rgba(0, 0, 0, 0.15);\n",
              "      filter: drop-shadow(0px 1px 2px rgba(0, 0, 0, 0.3));\n",
              "      fill: #FFFFFF;\n",
              "    }\n",
              "  </style>\n",
              "\n",
              "      <script>\n",
              "        const buttonEl =\n",
              "          document.querySelector('#df-53e515a0-9ad9-4cec-b73b-13b145b2ceb9 button.colab-df-convert');\n",
              "        buttonEl.style.display =\n",
              "          google.colab.kernel.accessAllowed ? 'block' : 'none';\n",
              "\n",
              "        async function convertToInteractive(key) {\n",
              "          const element = document.querySelector('#df-53e515a0-9ad9-4cec-b73b-13b145b2ceb9');\n",
              "          const dataTable =\n",
              "            await google.colab.kernel.invokeFunction('convertToInteractive',\n",
              "                                                     [key], {});\n",
              "          if (!dataTable) return;\n",
              "\n",
              "          const docLinkHtml = 'Like what you see? Visit the ' +\n",
              "            '<a target=\"_blank\" href=https://colab.research.google.com/notebooks/data_table.ipynb>data table notebook</a>'\n",
              "            + ' to learn more about interactive tables.';\n",
              "          element.innerHTML = '';\n",
              "          dataTable['output_type'] = 'display_data';\n",
              "          await google.colab.output.renderOutput(dataTable, element);\n",
              "          const docLink = document.createElement('div');\n",
              "          docLink.innerHTML = docLinkHtml;\n",
              "          element.appendChild(docLink);\n",
              "        }\n",
              "      </script>\n",
              "    </div>\n",
              "  </div>\n",
              "  "
            ]
          },
          "metadata": {},
          "execution_count": 43
        }
      ]
    },
    {
      "cell_type": "code",
      "source": [
        "# libraries\n",
        "from pandas.plotting import parallel_coordinates\n",
        "plt.figure(figsize = (10,10))\n",
        "parallel_coordinates(new_df, 'Type of Job', colormap=plt.get_cmap(\"Set2\"))\n",
        "plt.show()"
      ],
      "metadata": {
        "colab": {
          "base_uri": "https://localhost:8080/",
          "height": 592
        },
        "id": "aDpNM0CoTsBE",
        "outputId": "f1739521-d62e-4ce1-d440-c75f771b854d"
      },
      "execution_count": 44,
      "outputs": [
        {
          "output_type": "display_data",
          "data": {
            "text/plain": [
              "<Figure size 720x720 with 1 Axes>"
            ],
            "image/png": "[encoded data removed]"
          },
          "metadata": {}
        }
      ]
    },
    {
      "cell_type": "code",
      "source": [
        ""
      ],
      "metadata": {
        "id": "CvjEaRwuao8j"
      },
      "execution_count": 44,
      "outputs": []
    },
    {
      "cell_type": "code",
      "source": [
        ""
      ],
      "metadata": {
        "id": "hWzW1IEoYwuX"
      },
      "execution_count": 44,
      "outputs": []
    }
  ]
}